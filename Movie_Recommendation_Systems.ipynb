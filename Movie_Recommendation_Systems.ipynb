{
 "cells": [
  {
   "cell_type": "markdown",
   "metadata": {
    "id": "Cf3GloRNvOOG"
   },
   "source": [
    "# **Movie Recommendation System**\n",
    "\n",
    "---------------\n",
    "## **CONTEXT**\n",
    "---------------\n",
    "Online streaming platforms like Netflix have plenty of movies in their repository. And so, we can build a recommendation system to recommend relevant movies to users, based on their historical interactions. In doing so, we can improve customer satisfaction and hence, improve the revenue of the platform.\n",
    "\n",
    "-----------------\n",
    "## **OBJECTIVE**\n",
    "-----------------\n",
    "- Rank Based Recommendation System\n",
    "- Similarity Based Collaborative Filtering\n",
    "- Matrix Factorization Based Collaborative Filtering\n",
    "\n",
    "-----------------\n",
    "## **DATASET**\n",
    "-----------------\n",
    "- userId\n",
    "- movieId\n",
    "- rating\n",
    "- timestamp"
   ]
  },
  {
   "cell_type": "code",
   "execution_count": 1,
   "metadata": {
    "id": "Gem2ozi_vOOG"
   },
   "outputs": [],
   "source": [
    "# For container datatypes\n",
    "from collections import defaultdict \n",
    "\n",
    "# For array and dataframe computations\n",
    "import numpy as np                              \n",
    "import pandas as pd  \n",
    "\n",
    "# For data visualization\n",
    "import matplotlib.pyplot as plt               \n",
    "import seaborn as sns     \n",
    "sns.set_style(\"whitegrid\")\n",
    "\n",
    "# For recommendation systems\n",
    "from surprise.dataset import Dataset\n",
    "from surprise.reader import Reader\n",
    "from surprise.model_selection import train_test_split\n",
    "from surprise.model_selection import GridSearchCV\n",
    "from surprise.model_selection import KFold\n",
    "from surprise.prediction_algorithms.knns import KNNBasic             # For similarity based recommender\n",
    "from surprise.prediction_algorithms.matrix_factorization import SVD  # For model based recommender\n",
    "from surprise import accuracy\n",
    "\n",
    "import warnings                                 \n",
    "warnings.filterwarnings('ignore')"
   ]
  },
  {
   "cell_type": "code",
   "execution_count": 2,
   "metadata": {
    "id": "EdQIx3OLvOOG"
   },
   "outputs": [],
   "source": [
    "df = pd.read_csv('ratings.csv')"
   ]
  },
  {
   "cell_type": "code",
   "execution_count": 3,
   "metadata": {
    "id": "8zF1K1hDvOOG"
   },
   "outputs": [
    {
     "name": "stdout",
     "output_type": "stream",
     "text": [
      "<class 'pandas.core.frame.DataFrame'>\n",
      "RangeIndex: 100004 entries, 0 to 100003\n",
      "Data columns (total 4 columns):\n",
      " #   Column     Non-Null Count   Dtype  \n",
      "---  ------     --------------   -----  \n",
      " 0   userId     100004 non-null  int64  \n",
      " 1   movieId    100004 non-null  int64  \n",
      " 2   rating     100004 non-null  float64\n",
      " 3   timestamp  100004 non-null  int64  \n",
      "dtypes: float64(1), int64(3)\n",
      "memory usage: 3.1 MB\n"
     ]
    }
   ],
   "source": [
    "df.info()"
   ]
  },
  {
   "cell_type": "markdown",
   "metadata": {
    "id": "202Ux9MH2N9f"
   },
   "source": [
    "- There are **1,00,004** observations and **4** columns in the dataset.\n",
    "- All the columns are of **numeric** data type."
   ]
  },
  {
   "cell_type": "code",
   "execution_count": 4,
   "metadata": {
    "id": "fltadjTcvOOH"
   },
   "outputs": [],
   "source": [
    "df = df.drop(['timestamp'], axis=1)"
   ]
  },
  {
   "cell_type": "code",
   "execution_count": 5,
   "metadata": {
    "id": "1Q6gs-IO2N9i"
   },
   "outputs": [
    {
     "data": {
      "text/html": [
       "<div>\n",
       "<style scoped>\n",
       "    .dataframe tbody tr th:only-of-type {\n",
       "        vertical-align: middle;\n",
       "    }\n",
       "\n",
       "    .dataframe tbody tr th {\n",
       "        vertical-align: top;\n",
       "    }\n",
       "\n",
       "    .dataframe thead th {\n",
       "        text-align: right;\n",
       "    }\n",
       "</style>\n",
       "<table border=\"1\" class=\"dataframe\">\n",
       "  <thead>\n",
       "    <tr style=\"text-align: right;\">\n",
       "      <th></th>\n",
       "      <th>userId</th>\n",
       "      <th>movieId</th>\n",
       "      <th>rating</th>\n",
       "    </tr>\n",
       "  </thead>\n",
       "  <tbody>\n",
       "    <tr>\n",
       "      <th>0</th>\n",
       "      <td>1</td>\n",
       "      <td>31</td>\n",
       "      <td>2.5</td>\n",
       "    </tr>\n",
       "    <tr>\n",
       "      <th>1</th>\n",
       "      <td>1</td>\n",
       "      <td>1029</td>\n",
       "      <td>3.0</td>\n",
       "    </tr>\n",
       "    <tr>\n",
       "      <th>2</th>\n",
       "      <td>1</td>\n",
       "      <td>1061</td>\n",
       "      <td>3.0</td>\n",
       "    </tr>\n",
       "    <tr>\n",
       "      <th>3</th>\n",
       "      <td>1</td>\n",
       "      <td>1129</td>\n",
       "      <td>2.0</td>\n",
       "    </tr>\n",
       "    <tr>\n",
       "      <th>4</th>\n",
       "      <td>1</td>\n",
       "      <td>1172</td>\n",
       "      <td>4.0</td>\n",
       "    </tr>\n",
       "  </tbody>\n",
       "</table>\n",
       "</div>"
      ],
      "text/plain": [
       "   userId  movieId  rating\n",
       "0       1       31     2.5\n",
       "1       1     1029     3.0\n",
       "2       1     1061     3.0\n",
       "3       1     1129     2.0\n",
       "4       1     1172     4.0"
      ]
     },
     "execution_count": 5,
     "metadata": {},
     "output_type": "execute_result"
    }
   ],
   "source": [
    "df.head()"
   ]
  },
  {
   "cell_type": "markdown",
   "metadata": {
    "id": "mHOFHmoBwIAw"
   },
   "source": [
    "## **Data Exploration**"
   ]
  },
  {
   "cell_type": "markdown",
   "metadata": {
    "id": "fBZYy0HavOOH"
   },
   "source": [
    "### **Describe the distribution of ratings**"
   ]
  },
  {
   "cell_type": "code",
   "execution_count": 6,
   "metadata": {
    "id": "lO-EYEl3wIA2"
   },
   "outputs": [
    {
     "data": {
      "image/png": "[encoded data removed]",
      "text/plain": [
       "<Figure size 864x360 with 1 Axes>"
      ]
     },
     "metadata": {},
     "output_type": "display_data"
    }
   ],
   "source": [
    "plt.figure(figsize = (12, 5))\n",
    "sns.countplot(x=df.rating)\n",
    "plt.tick_params(labelsize=10)\n",
    "plt.title(\"RATINGS DISTRIBUTION\", fontsize=10)\n",
    "plt.xlabel(\"RATINGS\", fontsize=10)\n",
    "plt.ylabel(\"FREQUENCY\", fontsize=10)\n",
    "plt.show()"
   ]
  },
  {
   "cell_type": "markdown",
   "metadata": {
    "id": "vgRDrtHhwIA4"
   },
   "source": [
    "- The ratings with highest number of counts are 3 (20k), 4 (>25k), and 5 (15k), while the ratings with lowest number of counts are 0.5 (<5k), 1 (<5k), and 1.5 (<5k).\n",
    "- The overall distribution seems to center around 3 - 4 stars, indicating that users tend to give the middle ratings."
   ]
  },
  {
   "cell_type": "markdown",
   "metadata": {
    "id": "UOBD03d9vOOH"
   },
   "source": [
    "### **Total number of unique users and movies**"
   ]
  },
  {
   "cell_type": "code",
   "execution_count": 7,
   "metadata": {
    "id": "RMpbsZGGvOOH"
   },
   "outputs": [
    {
     "data": {
      "text/plain": [
       "671"
      ]
     },
     "execution_count": 7,
     "metadata": {},
     "output_type": "execute_result"
    }
   ],
   "source": [
    "df['userId'].nunique()"
   ]
  },
  {
   "cell_type": "markdown",
   "metadata": {
    "id": "CI8gofnx2N9m"
   },
   "source": [
    "There're 671 unique users."
   ]
  },
  {
   "cell_type": "code",
   "execution_count": 8,
   "metadata": {
    "id": "9A6Qmo_6vOOH"
   },
   "outputs": [
    {
     "data": {
      "text/plain": [
       "9066"
      ]
     },
     "execution_count": 8,
     "metadata": {},
     "output_type": "execute_result"
    }
   ],
   "source": [
    "df['movieId'].nunique()"
   ]
  },
  {
   "cell_type": "markdown",
   "metadata": {
    "id": "mDWJghQ62N9o"
   },
   "source": [
    "There're 9066 unique movies."
   ]
  },
  {
   "cell_type": "markdown",
   "metadata": {
    "id": "mR9tzSzTvOOH"
   },
   "source": [
    "### **Duplicated user-movie pairs**"
   ]
  },
  {
   "cell_type": "code",
   "execution_count": 9,
   "metadata": {
    "id": "d1E2i5rZvOOI"
   },
   "outputs": [
    {
     "name": "stdout",
     "output_type": "stream",
     "text": [
      "0\n",
      "100004\n"
     ]
    }
   ],
   "source": [
    "# Total number of row count for each group\n",
    "print((df.groupby(['userId', 'movieId']).size() > 1).sum())\n",
    "print((df.groupby(['userId', 'movieId']).size()).sum())"
   ]
  },
  {
   "cell_type": "markdown",
   "metadata": {
    "id": "ynCEs7q3vOOI"
   },
   "source": [
    "Each user-movie pair only returns one associated row, as can be validated by...\n",
    "- The boolean array evaluates to all false.\n",
    "- The sum is equal to the number of observations."
   ]
  },
  {
   "cell_type": "markdown",
   "metadata": {
    "id": "JQgjqRnevOOI"
   },
   "source": [
    "### **Most interacted movies**"
   ]
  },
  {
   "cell_type": "code",
   "execution_count": 10,
   "metadata": {
    "id": "4LBbXdoDvOOI"
   },
   "outputs": [
    {
     "data": {
      "text/plain": [
       "356    341\n",
       "296    324\n",
       "318    311\n",
       "593    304\n",
       "260    291\n",
       "Name: movieId, dtype: int64"
      ]
     },
     "execution_count": 10,
     "metadata": {},
     "output_type": "execute_result"
    }
   ],
   "source": [
    "df['movieId'].value_counts()[:5]"
   ]
  },
  {
   "cell_type": "markdown",
   "metadata": {
    "id": "PSo-c_XAvOOI"
   },
   "source": [
    "The movieId 356 has been interacted with users for 341 times. "
   ]
  },
  {
   "cell_type": "code",
   "execution_count": 11,
   "metadata": {
    "id": "fVkc1FK22N9r"
   },
   "outputs": [
    {
     "data": {
      "image/png": "[encoded data removed]",
      "text/plain": [
       "<Figure size 864x360 with 1 Axes>"
      ]
     },
     "metadata": {},
     "output_type": "display_data"
    }
   ],
   "source": [
    "plt.figure(figsize = (12, 5))\n",
    "sns.countplot(x=df[df['movieId'] == 356]['rating'])\n",
    "plt.tick_params(labelsize=10)\n",
    "plt.title(\"RATINGS DISTRIBUTION\", fontsize=10)\n",
    "plt.xlabel('RATINGS', fontsize=10)\n",
    "plt.ylabel('FREQUENCY', fontsize=10)\n",
    "plt.show()"
   ]
  },
  {
   "cell_type": "markdown",
   "metadata": {
    "id": "0pQn17ro2N9s"
   },
   "source": [
    "From the ratings distribution, it shows that the movieId 356 has received mostly positive feedback, with the ratings 4 and 5 dominating the users opinion.  "
   ]
  },
  {
   "cell_type": "markdown",
   "metadata": {
    "id": "0kXJ_iTEvOOI"
   },
   "source": [
    "### **Most interacted users**"
   ]
  },
  {
   "cell_type": "code",
   "execution_count": 12,
   "metadata": {
    "id": "t7ehlMLDvOOI"
   },
   "outputs": [
    {
     "data": {
      "text/plain": [
       "547    2391\n",
       "564    1868\n",
       "624    1735\n",
       "15     1700\n",
       "73     1610\n",
       "Name: userId, dtype: int64"
      ]
     },
     "execution_count": 12,
     "metadata": {},
     "output_type": "execute_result"
    }
   ],
   "source": [
    "df['userId'].value_counts()[:5]"
   ]
  },
  {
   "cell_type": "markdown",
   "metadata": {
    "id": "W-Sdna2ovOOI"
   },
   "source": [
    "The userId 547 has been engaged with movies for 2391 times. "
   ]
  },
  {
   "cell_type": "code",
   "execution_count": 13,
   "metadata": {},
   "outputs": [
    {
     "data": {
      "image/png": "[encoded data removed]",
      "text/plain": [
       "<Figure size 864x360 with 1 Axes>"
      ]
     },
     "metadata": {},
     "output_type": "display_data"
    }
   ],
   "source": [
    "plt.figure(figsize = (12, 5))\n",
    "sns.countplot(x=df[df['userId'] == 547]['rating'])\n",
    "plt.tick_params(labelsize=10)\n",
    "plt.title(\"RATINGS DISTRIBUTION\", fontsize=10)\n",
    "plt.xlabel('RATINGS', fontsize=10)\n",
    "plt.ylabel('FREQUENCY', fontsize=10)\n",
    "plt.show()"
   ]
  },
  {
   "cell_type": "markdown",
   "metadata": {},
   "source": [
    "From the ratings distribution, it shows that the userId 547 has given mostly middle ratings (3 - 4)."
   ]
  },
  {
   "cell_type": "markdown",
   "metadata": {
    "id": "lHReghdivOOI"
   },
   "source": [
    "### **Describe the distribution of user-movie interactions**"
   ]
  },
  {
   "cell_type": "code",
   "execution_count": 14,
   "metadata": {
    "id": "0XArWJ7l2N9v"
   },
   "outputs": [
    {
     "data": {
      "text/plain": [
       "userId\n",
       "547    2391\n",
       "564    1868\n",
       "624    1735\n",
       "15     1700\n",
       "73     1610\n",
       "       ... \n",
       "444      20\n",
       "445      20\n",
       "448      20\n",
       "498      20\n",
       "1        20\n",
       "Name: movieId, Length: 671, dtype: int64"
      ]
     },
     "execution_count": 14,
     "metadata": {},
     "output_type": "execute_result"
    }
   ],
   "source": [
    "interactions = df.groupby('userId')['movieId'].size().sort_values()\n",
    "interactions[::-1]"
   ]
  },
  {
   "cell_type": "code",
   "execution_count": 15,
   "metadata": {
    "id": "JoNCRm88vOOI"
   },
   "outputs": [
    {
     "data": {
      "image/png": "[encoded data removed]",
      "text/plain": [
       "<Figure size 864x360 with 1 Axes>"
      ]
     },
     "metadata": {},
     "output_type": "display_data"
    }
   ],
   "source": [
    "plt.figure(figsize = (12, 5))\n",
    "sns.histplot(interactions)\n",
    "plt.xlabel('# OF INTERACTIONS')\n",
    "plt.ylabel('# OF USERS')\n",
    "plt.show()"
   ]
  },
  {
   "cell_type": "markdown",
   "metadata": {
    "id": "vmj5nPiN2N9w"
   },
   "source": [
    "The distribution is highly skewed to the right, indicating that most of the users rate only a few movies, and in rare occasions, some users rate up to 1k movies.  "
   ]
  },
  {
   "cell_type": "markdown",
   "metadata": {
    "id": "knK9ML0bwIBR"
   },
   "source": [
    "## **Recommendation System**"
   ]
  },
  {
   "cell_type": "markdown",
   "metadata": {},
   "source": [
    "## **Recommendation Function**"
   ]
  },
  {
   "cell_type": "markdown",
   "metadata": {},
   "source": [
    "Given a user, we'd like to provide the top n recommendations based on our model:\n",
    "- Derive the user-item matrix\n",
    "- Filter the non-interacted items \n",
    "- For each non-interacted item, predict its rating\n",
    "- Across all items, recommend top n items"
   ]
  },
  {
   "cell_type": "code",
   "execution_count": 16,
   "metadata": {},
   "outputs": [
    {
     "data": {
      "text/html": [
       "<div>\n",
       "<style scoped>\n",
       "    .dataframe tbody tr th:only-of-type {\n",
       "        vertical-align: middle;\n",
       "    }\n",
       "\n",
       "    .dataframe tbody tr th {\n",
       "        vertical-align: top;\n",
       "    }\n",
       "\n",
       "    .dataframe thead th {\n",
       "        text-align: right;\n",
       "    }\n",
       "</style>\n",
       "<table border=\"1\" class=\"dataframe\">\n",
       "  <thead>\n",
       "    <tr style=\"text-align: right;\">\n",
       "      <th>movieId</th>\n",
       "      <th>1</th>\n",
       "      <th>2</th>\n",
       "      <th>3</th>\n",
       "      <th>4</th>\n",
       "      <th>5</th>\n",
       "      <th>6</th>\n",
       "      <th>7</th>\n",
       "      <th>8</th>\n",
       "      <th>9</th>\n",
       "      <th>10</th>\n",
       "      <th>...</th>\n",
       "      <th>161084</th>\n",
       "      <th>161155</th>\n",
       "      <th>161594</th>\n",
       "      <th>161830</th>\n",
       "      <th>161918</th>\n",
       "      <th>161944</th>\n",
       "      <th>162376</th>\n",
       "      <th>162542</th>\n",
       "      <th>162672</th>\n",
       "      <th>163949</th>\n",
       "    </tr>\n",
       "    <tr>\n",
       "      <th>userId</th>\n",
       "      <th></th>\n",
       "      <th></th>\n",
       "      <th></th>\n",
       "      <th></th>\n",
       "      <th></th>\n",
       "      <th></th>\n",
       "      <th></th>\n",
       "      <th></th>\n",
       "      <th></th>\n",
       "      <th></th>\n",
       "      <th></th>\n",
       "      <th></th>\n",
       "      <th></th>\n",
       "      <th></th>\n",
       "      <th></th>\n",
       "      <th></th>\n",
       "      <th></th>\n",
       "      <th></th>\n",
       "      <th></th>\n",
       "      <th></th>\n",
       "      <th></th>\n",
       "    </tr>\n",
       "  </thead>\n",
       "  <tbody>\n",
       "    <tr>\n",
       "      <th>1</th>\n",
       "      <td>NaN</td>\n",
       "      <td>NaN</td>\n",
       "      <td>NaN</td>\n",
       "      <td>NaN</td>\n",
       "      <td>NaN</td>\n",
       "      <td>NaN</td>\n",
       "      <td>NaN</td>\n",
       "      <td>NaN</td>\n",
       "      <td>NaN</td>\n",
       "      <td>NaN</td>\n",
       "      <td>...</td>\n",
       "      <td>NaN</td>\n",
       "      <td>NaN</td>\n",
       "      <td>NaN</td>\n",
       "      <td>NaN</td>\n",
       "      <td>NaN</td>\n",
       "      <td>NaN</td>\n",
       "      <td>NaN</td>\n",
       "      <td>NaN</td>\n",
       "      <td>NaN</td>\n",
       "      <td>NaN</td>\n",
       "    </tr>\n",
       "    <tr>\n",
       "      <th>2</th>\n",
       "      <td>NaN</td>\n",
       "      <td>NaN</td>\n",
       "      <td>NaN</td>\n",
       "      <td>NaN</td>\n",
       "      <td>NaN</td>\n",
       "      <td>NaN</td>\n",
       "      <td>NaN</td>\n",
       "      <td>NaN</td>\n",
       "      <td>NaN</td>\n",
       "      <td>4.0</td>\n",
       "      <td>...</td>\n",
       "      <td>NaN</td>\n",
       "      <td>NaN</td>\n",
       "      <td>NaN</td>\n",
       "      <td>NaN</td>\n",
       "      <td>NaN</td>\n",
       "      <td>NaN</td>\n",
       "      <td>NaN</td>\n",
       "      <td>NaN</td>\n",
       "      <td>NaN</td>\n",
       "      <td>NaN</td>\n",
       "    </tr>\n",
       "    <tr>\n",
       "      <th>3</th>\n",
       "      <td>NaN</td>\n",
       "      <td>NaN</td>\n",
       "      <td>NaN</td>\n",
       "      <td>NaN</td>\n",
       "      <td>NaN</td>\n",
       "      <td>NaN</td>\n",
       "      <td>NaN</td>\n",
       "      <td>NaN</td>\n",
       "      <td>NaN</td>\n",
       "      <td>NaN</td>\n",
       "      <td>...</td>\n",
       "      <td>NaN</td>\n",
       "      <td>NaN</td>\n",
       "      <td>NaN</td>\n",
       "      <td>NaN</td>\n",
       "      <td>NaN</td>\n",
       "      <td>NaN</td>\n",
       "      <td>NaN</td>\n",
       "      <td>NaN</td>\n",
       "      <td>NaN</td>\n",
       "      <td>NaN</td>\n",
       "    </tr>\n",
       "    <tr>\n",
       "      <th>4</th>\n",
       "      <td>NaN</td>\n",
       "      <td>NaN</td>\n",
       "      <td>NaN</td>\n",
       "      <td>NaN</td>\n",
       "      <td>NaN</td>\n",
       "      <td>NaN</td>\n",
       "      <td>NaN</td>\n",
       "      <td>NaN</td>\n",
       "      <td>NaN</td>\n",
       "      <td>4.0</td>\n",
       "      <td>...</td>\n",
       "      <td>NaN</td>\n",
       "      <td>NaN</td>\n",
       "      <td>NaN</td>\n",
       "      <td>NaN</td>\n",
       "      <td>NaN</td>\n",
       "      <td>NaN</td>\n",
       "      <td>NaN</td>\n",
       "      <td>NaN</td>\n",
       "      <td>NaN</td>\n",
       "      <td>NaN</td>\n",
       "    </tr>\n",
       "    <tr>\n",
       "      <th>5</th>\n",
       "      <td>NaN</td>\n",
       "      <td>NaN</td>\n",
       "      <td>4.0</td>\n",
       "      <td>NaN</td>\n",
       "      <td>NaN</td>\n",
       "      <td>NaN</td>\n",
       "      <td>NaN</td>\n",
       "      <td>NaN</td>\n",
       "      <td>NaN</td>\n",
       "      <td>NaN</td>\n",
       "      <td>...</td>\n",
       "      <td>NaN</td>\n",
       "      <td>NaN</td>\n",
       "      <td>NaN</td>\n",
       "      <td>NaN</td>\n",
       "      <td>NaN</td>\n",
       "      <td>NaN</td>\n",
       "      <td>NaN</td>\n",
       "      <td>NaN</td>\n",
       "      <td>NaN</td>\n",
       "      <td>NaN</td>\n",
       "    </tr>\n",
       "    <tr>\n",
       "      <th>...</th>\n",
       "      <td>...</td>\n",
       "      <td>...</td>\n",
       "      <td>...</td>\n",
       "      <td>...</td>\n",
       "      <td>...</td>\n",
       "      <td>...</td>\n",
       "      <td>...</td>\n",
       "      <td>...</td>\n",
       "      <td>...</td>\n",
       "      <td>...</td>\n",
       "      <td>...</td>\n",
       "      <td>...</td>\n",
       "      <td>...</td>\n",
       "      <td>...</td>\n",
       "      <td>...</td>\n",
       "      <td>...</td>\n",
       "      <td>...</td>\n",
       "      <td>...</td>\n",
       "      <td>...</td>\n",
       "      <td>...</td>\n",
       "      <td>...</td>\n",
       "    </tr>\n",
       "    <tr>\n",
       "      <th>667</th>\n",
       "      <td>NaN</td>\n",
       "      <td>NaN</td>\n",
       "      <td>NaN</td>\n",
       "      <td>NaN</td>\n",
       "      <td>NaN</td>\n",
       "      <td>4.0</td>\n",
       "      <td>NaN</td>\n",
       "      <td>NaN</td>\n",
       "      <td>NaN</td>\n",
       "      <td>NaN</td>\n",
       "      <td>...</td>\n",
       "      <td>NaN</td>\n",
       "      <td>NaN</td>\n",
       "      <td>NaN</td>\n",
       "      <td>NaN</td>\n",
       "      <td>NaN</td>\n",
       "      <td>NaN</td>\n",
       "      <td>NaN</td>\n",
       "      <td>NaN</td>\n",
       "      <td>NaN</td>\n",
       "      <td>NaN</td>\n",
       "    </tr>\n",
       "    <tr>\n",
       "      <th>668</th>\n",
       "      <td>NaN</td>\n",
       "      <td>NaN</td>\n",
       "      <td>NaN</td>\n",
       "      <td>NaN</td>\n",
       "      <td>NaN</td>\n",
       "      <td>NaN</td>\n",
       "      <td>NaN</td>\n",
       "      <td>NaN</td>\n",
       "      <td>NaN</td>\n",
       "      <td>NaN</td>\n",
       "      <td>...</td>\n",
       "      <td>NaN</td>\n",
       "      <td>NaN</td>\n",
       "      <td>NaN</td>\n",
       "      <td>NaN</td>\n",
       "      <td>NaN</td>\n",
       "      <td>NaN</td>\n",
       "      <td>NaN</td>\n",
       "      <td>NaN</td>\n",
       "      <td>NaN</td>\n",
       "      <td>NaN</td>\n",
       "    </tr>\n",
       "    <tr>\n",
       "      <th>669</th>\n",
       "      <td>NaN</td>\n",
       "      <td>NaN</td>\n",
       "      <td>NaN</td>\n",
       "      <td>NaN</td>\n",
       "      <td>NaN</td>\n",
       "      <td>NaN</td>\n",
       "      <td>NaN</td>\n",
       "      <td>NaN</td>\n",
       "      <td>NaN</td>\n",
       "      <td>NaN</td>\n",
       "      <td>...</td>\n",
       "      <td>NaN</td>\n",
       "      <td>NaN</td>\n",
       "      <td>NaN</td>\n",
       "      <td>NaN</td>\n",
       "      <td>NaN</td>\n",
       "      <td>NaN</td>\n",
       "      <td>NaN</td>\n",
       "      <td>NaN</td>\n",
       "      <td>NaN</td>\n",
       "      <td>NaN</td>\n",
       "    </tr>\n",
       "    <tr>\n",
       "      <th>670</th>\n",
       "      <td>4.0</td>\n",
       "      <td>NaN</td>\n",
       "      <td>NaN</td>\n",
       "      <td>NaN</td>\n",
       "      <td>NaN</td>\n",
       "      <td>NaN</td>\n",
       "      <td>NaN</td>\n",
       "      <td>NaN</td>\n",
       "      <td>NaN</td>\n",
       "      <td>NaN</td>\n",
       "      <td>...</td>\n",
       "      <td>NaN</td>\n",
       "      <td>NaN</td>\n",
       "      <td>NaN</td>\n",
       "      <td>NaN</td>\n",
       "      <td>NaN</td>\n",
       "      <td>NaN</td>\n",
       "      <td>NaN</td>\n",
       "      <td>NaN</td>\n",
       "      <td>NaN</td>\n",
       "      <td>NaN</td>\n",
       "    </tr>\n",
       "    <tr>\n",
       "      <th>671</th>\n",
       "      <td>5.0</td>\n",
       "      <td>NaN</td>\n",
       "      <td>NaN</td>\n",
       "      <td>NaN</td>\n",
       "      <td>NaN</td>\n",
       "      <td>NaN</td>\n",
       "      <td>NaN</td>\n",
       "      <td>NaN</td>\n",
       "      <td>NaN</td>\n",
       "      <td>NaN</td>\n",
       "      <td>...</td>\n",
       "      <td>NaN</td>\n",
       "      <td>NaN</td>\n",
       "      <td>NaN</td>\n",
       "      <td>NaN</td>\n",
       "      <td>NaN</td>\n",
       "      <td>NaN</td>\n",
       "      <td>NaN</td>\n",
       "      <td>NaN</td>\n",
       "      <td>NaN</td>\n",
       "      <td>NaN</td>\n",
       "    </tr>\n",
       "  </tbody>\n",
       "</table>\n",
       "<p>671 rows × 9066 columns</p>\n",
       "</div>"
      ],
      "text/plain": [
       "movieId  1       2       3       4       5       6       7       8       \\\n",
       "userId                                                                    \n",
       "1           NaN     NaN     NaN     NaN     NaN     NaN     NaN     NaN   \n",
       "2           NaN     NaN     NaN     NaN     NaN     NaN     NaN     NaN   \n",
       "3           NaN     NaN     NaN     NaN     NaN     NaN     NaN     NaN   \n",
       "4           NaN     NaN     NaN     NaN     NaN     NaN     NaN     NaN   \n",
       "5           NaN     NaN     4.0     NaN     NaN     NaN     NaN     NaN   \n",
       "...         ...     ...     ...     ...     ...     ...     ...     ...   \n",
       "667         NaN     NaN     NaN     NaN     NaN     4.0     NaN     NaN   \n",
       "668         NaN     NaN     NaN     NaN     NaN     NaN     NaN     NaN   \n",
       "669         NaN     NaN     NaN     NaN     NaN     NaN     NaN     NaN   \n",
       "670         4.0     NaN     NaN     NaN     NaN     NaN     NaN     NaN   \n",
       "671         5.0     NaN     NaN     NaN     NaN     NaN     NaN     NaN   \n",
       "\n",
       "movieId  9       10      ...  161084  161155  161594  161830  161918  161944  \\\n",
       "userId                   ...                                                   \n",
       "1           NaN     NaN  ...     NaN     NaN     NaN     NaN     NaN     NaN   \n",
       "2           NaN     4.0  ...     NaN     NaN     NaN     NaN     NaN     NaN   \n",
       "3           NaN     NaN  ...     NaN     NaN     NaN     NaN     NaN     NaN   \n",
       "4           NaN     4.0  ...     NaN     NaN     NaN     NaN     NaN     NaN   \n",
       "5           NaN     NaN  ...     NaN     NaN     NaN     NaN     NaN     NaN   \n",
       "...         ...     ...  ...     ...     ...     ...     ...     ...     ...   \n",
       "667         NaN     NaN  ...     NaN     NaN     NaN     NaN     NaN     NaN   \n",
       "668         NaN     NaN  ...     NaN     NaN     NaN     NaN     NaN     NaN   \n",
       "669         NaN     NaN  ...     NaN     NaN     NaN     NaN     NaN     NaN   \n",
       "670         NaN     NaN  ...     NaN     NaN     NaN     NaN     NaN     NaN   \n",
       "671         NaN     NaN  ...     NaN     NaN     NaN     NaN     NaN     NaN   \n",
       "\n",
       "movieId  162376  162542  162672  163949  \n",
       "userId                                   \n",
       "1           NaN     NaN     NaN     NaN  \n",
       "2           NaN     NaN     NaN     NaN  \n",
       "3           NaN     NaN     NaN     NaN  \n",
       "4           NaN     NaN     NaN     NaN  \n",
       "5           NaN     NaN     NaN     NaN  \n",
       "...         ...     ...     ...     ...  \n",
       "667         NaN     NaN     NaN     NaN  \n",
       "668         NaN     NaN     NaN     NaN  \n",
       "669         NaN     NaN     NaN     NaN  \n",
       "670         NaN     NaN     NaN     NaN  \n",
       "671         NaN     NaN     NaN     NaN  \n",
       "\n",
       "[671 rows x 9066 columns]"
      ]
     },
     "execution_count": 16,
     "metadata": {},
     "output_type": "execute_result"
    }
   ],
   "source": [
    "# Sparse Matrix\n",
    "df.pivot(index='userId', columns='movieId', values='rating')"
   ]
  },
  {
   "cell_type": "code",
   "execution_count": 17,
   "metadata": {},
   "outputs": [
    {
     "data": {
      "text/plain": [
       "array([[nan, nan, nan, ..., nan, nan, nan],\n",
       "       [nan, nan, nan, ..., nan, nan, nan],\n",
       "       [nan, nan, nan, ..., nan, nan, nan],\n",
       "       ...,\n",
       "       [nan, nan, nan, ..., nan, nan, nan],\n",
       "       [ 4., nan, nan, ..., nan, nan, nan],\n",
       "       [ 5., nan, nan, ..., nan, nan, nan]])"
      ]
     },
     "execution_count": 17,
     "metadata": {},
     "output_type": "execute_result"
    }
   ],
   "source": [
    "# Compressed Sparse Row Matrix\n",
    "from scipy.sparse import csr_matrix\n",
    "csr_matrix(df.pivot(index='userId', columns='movieId', values='rating')).toarray()"
   ]
  },
  {
   "cell_type": "code",
   "execution_count": 18,
   "metadata": {},
   "outputs": [],
   "source": [
    "def provide_recommendations(df, customer_id, reco_n, reco_model):\n",
    "    \n",
    "    recommendations = []\n",
    "    \n",
    "    interactions_matrix = df.pivot(index='userId', columns='movieId', values='rating')\n",
    "    non_interacted_items = interactions_matrix.loc[customer_id][interactions_matrix.loc[customer_id].isnull()].index.tolist()\n",
    "    \n",
    "    for item_id in non_interacted_items:\n",
    "        prediction = reco_model.predict(customer_id, item_id).est\n",
    "        recommendations.append((item_id, prediction))\n",
    "\n",
    "    recommendations.sort(key=lambda x: x[1], reverse=True)\n",
    "\n",
    "    return recommendations[:reco_n]"
   ]
  },
  {
   "cell_type": "markdown",
   "metadata": {
    "id": "CqFN5jDJvOOJ"
   },
   "source": [
    "## **Model 1: Rank-Based Recommendation System**"
   ]
  },
  {
   "cell_type": "markdown",
   "metadata": {
    "id": "W26vIRn1vOOJ"
   },
   "source": [
    "Rank-based recommendation systems provide recommendations based on the most popular items. This kind of recommendation system is useful when we have cold start problems. \n",
    "- Cold start refers to the issue when we get a new user into the system and the machine is not able to recommend movies to the new user, as the user did not have any historical interactions. \n",
    "- In such cases, we can use rank-based recommendation system to recommend movies to the new user."
   ]
  },
  {
   "cell_type": "markdown",
   "metadata": {
    "id": "I3t4uyGlvOOK"
   },
   "source": [
    "To build the rank-based recommendation system:\n",
    "- Take the average ratings \n",
    "- Rank the obtained results "
   ]
  },
  {
   "cell_type": "code",
   "execution_count": 19,
   "metadata": {
    "id": "xuMR3XFIvOOK"
   },
   "outputs": [
    {
     "data": {
      "text/html": [
       "<div>\n",
       "<style scoped>\n",
       "    .dataframe tbody tr th:only-of-type {\n",
       "        vertical-align: middle;\n",
       "    }\n",
       "\n",
       "    .dataframe tbody tr th {\n",
       "        vertical-align: top;\n",
       "    }\n",
       "\n",
       "    .dataframe thead th {\n",
       "        text-align: right;\n",
       "    }\n",
       "</style>\n",
       "<table border=\"1\" class=\"dataframe\">\n",
       "  <thead>\n",
       "    <tr style=\"text-align: right;\">\n",
       "      <th></th>\n",
       "      <th>mean_score</th>\n",
       "      <th>size_n</th>\n",
       "    </tr>\n",
       "    <tr>\n",
       "      <th>movieId</th>\n",
       "      <th></th>\n",
       "      <th></th>\n",
       "    </tr>\n",
       "  </thead>\n",
       "  <tbody>\n",
       "    <tr>\n",
       "      <th>1</th>\n",
       "      <td>3.872470</td>\n",
       "      <td>247</td>\n",
       "    </tr>\n",
       "    <tr>\n",
       "      <th>2</th>\n",
       "      <td>3.401869</td>\n",
       "      <td>107</td>\n",
       "    </tr>\n",
       "    <tr>\n",
       "      <th>3</th>\n",
       "      <td>3.161017</td>\n",
       "      <td>59</td>\n",
       "    </tr>\n",
       "    <tr>\n",
       "      <th>4</th>\n",
       "      <td>2.384615</td>\n",
       "      <td>13</td>\n",
       "    </tr>\n",
       "    <tr>\n",
       "      <th>5</th>\n",
       "      <td>3.267857</td>\n",
       "      <td>56</td>\n",
       "    </tr>\n",
       "  </tbody>\n",
       "</table>\n",
       "</div>"
      ],
      "text/plain": [
       "         mean_score  size_n\n",
       "movieId                    \n",
       "1          3.872470     247\n",
       "2          3.401869     107\n",
       "3          3.161017      59\n",
       "4          2.384615      13\n",
       "5          3.267857      56"
      ]
     },
     "execution_count": 19,
     "metadata": {},
     "output_type": "execute_result"
    }
   ],
   "source": [
    "mean_score = df.groupby('movieId')['rating'].mean()\n",
    "size_n = df.groupby('movieId')['rating'].size()\n",
    "\n",
    "df_final = pd.DataFrame({'mean_score': mean_score, 'size_n': size_n})\n",
    "df_final.head()"
   ]
  },
  {
   "cell_type": "code",
   "execution_count": 20,
   "metadata": {
    "id": "Fy0SbxnevOOK"
   },
   "outputs": [],
   "source": [
    "def Top_N(df, n, min_interaction=100):\n",
    "    \n",
    "    # Filter movies with minimum number of interactions\n",
    "    recommendations = df[df['size_n'] > min_interaction]\n",
    "    # Sort movies with respect to mean score \n",
    "    recommendations = recommendations.sort_values(by='mean_score', ascending=False)\n",
    "    \n",
    "    return recommendations.index[:n]"
   ]
  },
  {
   "cell_type": "markdown",
   "metadata": {
    "id": "hkz4LlTpvOOK"
   },
   "source": [
    "**Top 5 recommendations with 50 minimum interactions**"
   ]
  },
  {
   "cell_type": "code",
   "execution_count": 21,
   "metadata": {
    "id": "u-JX_ES9vOOK"
   },
   "outputs": [
    {
     "data": {
      "text/plain": [
       "[858, 318, 913, 1221, 50]"
      ]
     },
     "execution_count": 21,
     "metadata": {},
     "output_type": "execute_result"
    }
   ],
   "source": [
    "list(Top_N(df=df_final, n=5, min_interaction=50))"
   ]
  },
  {
   "cell_type": "markdown",
   "metadata": {
    "id": "KRFTrsBVvOOK"
   },
   "source": [
    "**Top 5 recommendations with 100 minimum interactions**"
   ]
  },
  {
   "cell_type": "code",
   "execution_count": 22,
   "metadata": {
    "id": "U2wvxF2rvOOK"
   },
   "outputs": [
    {
     "data": {
      "text/plain": [
       "[858, 318, 1221, 50, 527]"
      ]
     },
     "execution_count": 22,
     "metadata": {},
     "output_type": "execute_result"
    }
   ],
   "source": [
    "list(Top_N(df=df_final, n=5, min_interaction=100))"
   ]
  },
  {
   "cell_type": "markdown",
   "metadata": {
    "id": "_3SW8bLkvOOK"
   },
   "source": [
    "**Top 5 recommendations with 200 minimum interactions**"
   ]
  },
  {
   "cell_type": "code",
   "execution_count": 23,
   "metadata": {
    "id": "t6ziQvDgvOOK"
   },
   "outputs": [
    {
     "data": {
      "text/plain": [
       "[318, 50, 527, 608, 296]"
      ]
     },
     "execution_count": 23,
     "metadata": {},
     "output_type": "execute_result"
    }
   ],
   "source": [
    "list(Top_N(df=df_final, n=5, min_interaction=200))"
   ]
  },
  {
   "cell_type": "markdown",
   "metadata": {
    "id": "sJI5kiiGvOOK"
   },
   "source": [
    "## **Model 2: User-Based Collaborative Filtering Recommendation System**"
   ]
  },
  {
   "cell_type": "markdown",
   "metadata": {},
   "source": [
    "### **Modelling Workflow**\n",
    "1. Prepare Surprise Dataset\n",
    "2. Build Baseline Model\n",
    "3. Tune Model Hyperparameters\n",
    "4. Make Final Recommendations"
   ]
  },
  {
   "cell_type": "markdown",
   "metadata": {
    "id": "skzc0N1_nVNB"
   },
   "source": [
    "### **Baseline - User-User Similarity**"
   ]
  },
  {
   "cell_type": "markdown",
   "metadata": {
    "id": "d4Uo_MYMnVNB"
   },
   "source": [
    "- Measure: Cosine Similarity\n",
    "- Algorithm: K-Nearest Neighbors"
   ]
  },
  {
   "cell_type": "code",
   "execution_count": 24,
   "metadata": {
    "id": "rGfYDiOCpe4X"
   },
   "outputs": [],
   "source": [
    "reader = Reader(rating_scale=(0, 5))\n",
    "surprise = Dataset.load_from_df(df[['userId', 'movieId', 'rating']], reader)\n",
    "TRAIN, TEST = train_test_split(surprise, test_size=0.2, random_state=42)"
   ]
  },
  {
   "cell_type": "code",
   "execution_count": 25,
   "metadata": {
    "id": "vO3FL7iape8A"
   },
   "outputs": [
    {
     "name": "stdout",
     "output_type": "stream",
     "text": [
      "RMSE: 0.9925\n"
     ]
    },
    {
     "data": {
      "text/plain": [
       "0.9924509041520163"
      ]
     },
     "execution_count": 25,
     "metadata": {},
     "output_type": "execute_result"
    }
   ],
   "source": [
    "# Instantiate > Train > Evaluate\n",
    "sim_options = {'name': 'cosine', 'user_based': True}\n",
    "KNN_USER_USER = KNNBasic(sim_options=sim_options, verbose=False)\n",
    "KNN_USER_USER.fit(TRAIN)\n",
    "\n",
    "predictions = KNN_USER_USER.test(TEST)\n",
    "accuracy.rmse(predictions)"
   ]
  },
  {
   "cell_type": "markdown",
   "metadata": {
    "id": "6y7zChf8wIBr"
   },
   "source": [
    "### **Score**"
   ]
  },
  {
   "cell_type": "markdown",
   "metadata": {
    "id": "yE5kvdZenVNC"
   },
   "source": [
    "As can be seen from the output, the user-user baseline model has RMSE of 0.9925."
   ]
  },
  {
   "cell_type": "markdown",
   "metadata": {
    "id": "qelE7GyrwIBs"
   },
   "source": [
    "### **Prediction**"
   ]
  },
  {
   "cell_type": "markdown",
   "metadata": {
    "id": "reFD0-nsnVNC"
   },
   "source": [
    "**userId=4, movieId=10**"
   ]
  },
  {
   "cell_type": "code",
   "execution_count": 26,
   "metadata": {
    "id": "Sxd23bZ9pe_x"
   },
   "outputs": [
    {
     "data": {
      "text/plain": [
       "Prediction(uid=4, iid=10, r_ui=4, est=3.6244912065910952, details={'actual_k': 40, 'was_impossible': False})"
      ]
     },
     "execution_count": 26,
     "metadata": {},
     "output_type": "execute_result"
    }
   ],
   "source": [
    "KNN_USER_USER.predict(uid=4, iid=10, r_ui=4, verbose=False)"
   ]
  },
  {
   "cell_type": "markdown",
   "metadata": {
    "id": "QuVbIR3SnVNE"
   },
   "source": [
    "Based on the user-user similarity model, the predicted rating is 3.62, while the actual rating is 4."
   ]
  },
  {
   "cell_type": "markdown",
   "metadata": {
    "id": "EXSgq8OEnVNE"
   },
   "source": [
    "**userId=4, movieId=3**"
   ]
  },
  {
   "cell_type": "code",
   "execution_count": 27,
   "metadata": {
    "id": "PbFcBj1PpfEV"
   },
   "outputs": [
    {
     "data": {
      "text/plain": [
       "Prediction(uid=4, iid=3, r_ui=None, est=3.202703552548654, details={'actual_k': 40, 'was_impossible': False})"
      ]
     },
     "execution_count": 27,
     "metadata": {},
     "output_type": "execute_result"
    }
   ],
   "source": [
    "KNN_USER_USER.predict(uid=4, iid=3, verbose=False)"
   ]
  },
  {
   "cell_type": "markdown",
   "metadata": {
    "id": "cm2xqtcQnVNE"
   },
   "source": [
    "Based on the user-user similarity model, the predicted rating is 3.20 for the unwatched movieId 3."
   ]
  },
  {
   "cell_type": "markdown",
   "metadata": {
    "id": "ejjof6csnVNF"
   },
   "source": [
    "### **Tuned - User-User Similarity**"
   ]
  },
  {
   "cell_type": "markdown",
   "metadata": {
    "id": "p2j4VvfQnVNF"
   },
   "source": [
    "- **k** (int):  \n",
    "  - The maximum number of neighbors to take into account for aggregation\n",
    "  - Default = 40\n",
    "- **min_k** (int):\n",
    "  - The minimum number of neighbors to take into account for aggregation\n",
    "  - Default = 1\n",
    "- **sim_options** (dict):\n",
    "  - cosine\n",
    "  - msd\n",
    "  - pearson\n",
    "  - pearson baseline"
   ]
  },
  {
   "cell_type": "markdown",
   "metadata": {
    "id": "lTLnYn_JwIBx"
   },
   "source": [
    "### **Hyperparameter Tuning**"
   ]
  },
  {
   "cell_type": "code",
   "execution_count": 28,
   "metadata": {
    "id": "KpGhU15gpfHg"
   },
   "outputs": [
    {
     "name": "stdout",
     "output_type": "stream",
     "text": [
      "0.9926868919930331\n",
      "{'k': 50, 'min_k': 5, 'sim_options': {'name': 'cosine', 'user_based': True}}\n"
     ]
    }
   ],
   "source": [
    "# Use Grid-Search CV to choose the optimal hyperparameters\n",
    "param_grid = {\n",
    "    'k': [30, 40, 50],\n",
    "    'min_k': [5, 10],\n",
    "    'sim_options': {'name': ['pearson', 'cosine'], 'user_based': [True]}\n",
    "}\n",
    "\n",
    "grid_obj = GridSearchCV(KNNBasic, param_grid, measures=['rmse', 'mae'], cv=3, n_jobs=-1)\n",
    "grid_obj.fit(surprise)\n",
    "\n",
    "print(grid_obj.best_score['rmse'])\n",
    "print(grid_obj.best_params['rmse'])"
   ]
  },
  {
   "cell_type": "code",
   "execution_count": 29,
   "metadata": {
    "id": "TzJxk_Z4q1A8"
   },
   "outputs": [
    {
     "data": {
      "text/html": [
       "<div>\n",
       "<style scoped>\n",
       "    .dataframe tbody tr th:only-of-type {\n",
       "        vertical-align: middle;\n",
       "    }\n",
       "\n",
       "    .dataframe tbody tr th {\n",
       "        vertical-align: top;\n",
       "    }\n",
       "\n",
       "    .dataframe thead th {\n",
       "        text-align: right;\n",
       "    }\n",
       "</style>\n",
       "<table border=\"1\" class=\"dataframe\">\n",
       "  <thead>\n",
       "    <tr style=\"text-align: right;\">\n",
       "      <th></th>\n",
       "      <th>split0_test_rmse</th>\n",
       "      <th>split1_test_rmse</th>\n",
       "      <th>split2_test_rmse</th>\n",
       "      <th>mean_test_rmse</th>\n",
       "      <th>std_test_rmse</th>\n",
       "      <th>rank_test_rmse</th>\n",
       "      <th>split0_test_mae</th>\n",
       "      <th>split1_test_mae</th>\n",
       "      <th>split2_test_mae</th>\n",
       "      <th>mean_test_mae</th>\n",
       "      <th>std_test_mae</th>\n",
       "      <th>rank_test_mae</th>\n",
       "      <th>mean_fit_time</th>\n",
       "      <th>std_fit_time</th>\n",
       "      <th>mean_test_time</th>\n",
       "      <th>std_test_time</th>\n",
       "      <th>params</th>\n",
       "      <th>param_k</th>\n",
       "      <th>param_min_k</th>\n",
       "      <th>param_sim_options</th>\n",
       "    </tr>\n",
       "  </thead>\n",
       "  <tbody>\n",
       "    <tr>\n",
       "      <th>0</th>\n",
       "      <td>1.003697</td>\n",
       "      <td>0.997840</td>\n",
       "      <td>0.992287</td>\n",
       "      <td>0.997941</td>\n",
       "      <td>0.004659</td>\n",
       "      <td>6</td>\n",
       "      <td>0.781579</td>\n",
       "      <td>0.772592</td>\n",
       "      <td>0.773864</td>\n",
       "      <td>0.776012</td>\n",
       "      <td>0.003971</td>\n",
       "      <td>9</td>\n",
       "      <td>0.686480</td>\n",
       "      <td>0.034866</td>\n",
       "      <td>4.870000</td>\n",
       "      <td>0.080062</td>\n",
       "      <td>{'k': 30, 'min_k': 5, 'sim_options': {'name': ...</td>\n",
       "      <td>30</td>\n",
       "      <td>5</td>\n",
       "      <td>{'name': 'pearson', 'user_based': True}</td>\n",
       "    </tr>\n",
       "    <tr>\n",
       "      <th>1</th>\n",
       "      <td>0.999915</td>\n",
       "      <td>0.994161</td>\n",
       "      <td>0.985864</td>\n",
       "      <td>0.993314</td>\n",
       "      <td>0.005768</td>\n",
       "      <td>3</td>\n",
       "      <td>0.773609</td>\n",
       "      <td>0.766299</td>\n",
       "      <td>0.765886</td>\n",
       "      <td>0.768598</td>\n",
       "      <td>0.003548</td>\n",
       "      <td>1</td>\n",
       "      <td>0.415202</td>\n",
       "      <td>0.083791</td>\n",
       "      <td>4.943530</td>\n",
       "      <td>0.067708</td>\n",
       "      <td>{'k': 30, 'min_k': 5, 'sim_options': {'name': ...</td>\n",
       "      <td>30</td>\n",
       "      <td>5</td>\n",
       "      <td>{'name': 'cosine', 'user_based': True}</td>\n",
       "    </tr>\n",
       "    <tr>\n",
       "      <th>2</th>\n",
       "      <td>1.008289</td>\n",
       "      <td>1.007151</td>\n",
       "      <td>0.998466</td>\n",
       "      <td>1.004635</td>\n",
       "      <td>0.004387</td>\n",
       "      <td>12</td>\n",
       "      <td>0.786676</td>\n",
       "      <td>0.780676</td>\n",
       "      <td>0.779680</td>\n",
       "      <td>0.782344</td>\n",
       "      <td>0.003090</td>\n",
       "      <td>12</td>\n",
       "      <td>0.493044</td>\n",
       "      <td>0.077887</td>\n",
       "      <td>4.999586</td>\n",
       "      <td>0.195549</td>\n",
       "      <td>{'k': 30, 'min_k': 10, 'sim_options': {'name':...</td>\n",
       "      <td>30</td>\n",
       "      <td>10</td>\n",
       "      <td>{'name': 'pearson', 'user_based': True}</td>\n",
       "    </tr>\n",
       "    <tr>\n",
       "      <th>3</th>\n",
       "      <td>1.005701</td>\n",
       "      <td>1.000702</td>\n",
       "      <td>0.994234</td>\n",
       "      <td>1.000212</td>\n",
       "      <td>0.004694</td>\n",
       "      <td>9</td>\n",
       "      <td>0.779218</td>\n",
       "      <td>0.771805</td>\n",
       "      <td>0.772448</td>\n",
       "      <td>0.774491</td>\n",
       "      <td>0.003353</td>\n",
       "      <td>4</td>\n",
       "      <td>0.417654</td>\n",
       "      <td>0.000891</td>\n",
       "      <td>4.541776</td>\n",
       "      <td>0.076840</td>\n",
       "      <td>{'k': 30, 'min_k': 10, 'sim_options': {'name':...</td>\n",
       "      <td>30</td>\n",
       "      <td>10</td>\n",
       "      <td>{'name': 'cosine', 'user_based': True}</td>\n",
       "    </tr>\n",
       "    <tr>\n",
       "      <th>4</th>\n",
       "      <td>1.003147</td>\n",
       "      <td>0.997299</td>\n",
       "      <td>0.991674</td>\n",
       "      <td>0.997374</td>\n",
       "      <td>0.004684</td>\n",
       "      <td>5</td>\n",
       "      <td>0.781222</td>\n",
       "      <td>0.772074</td>\n",
       "      <td>0.773493</td>\n",
       "      <td>0.775596</td>\n",
       "      <td>0.004020</td>\n",
       "      <td>8</td>\n",
       "      <td>0.565860</td>\n",
       "      <td>0.011894</td>\n",
       "      <td>4.607016</td>\n",
       "      <td>0.085404</td>\n",
       "      <td>{'k': 40, 'min_k': 5, 'sim_options': {'name': ...</td>\n",
       "      <td>40</td>\n",
       "      <td>5</td>\n",
       "      <td>{'name': 'pearson', 'user_based': True}</td>\n",
       "    </tr>\n",
       "  </tbody>\n",
       "</table>\n",
       "</div>"
      ],
      "text/plain": [
       "   split0_test_rmse  split1_test_rmse  split2_test_rmse  mean_test_rmse  \\\n",
       "0          1.003697          0.997840          0.992287        0.997941   \n",
       "1          0.999915          0.994161          0.985864        0.993314   \n",
       "2          1.008289          1.007151          0.998466        1.004635   \n",
       "3          1.005701          1.000702          0.994234        1.000212   \n",
       "4          1.003147          0.997299          0.991674        0.997374   \n",
       "\n",
       "   std_test_rmse  rank_test_rmse  split0_test_mae  split1_test_mae  \\\n",
       "0       0.004659               6         0.781579         0.772592   \n",
       "1       0.005768               3         0.773609         0.766299   \n",
       "2       0.004387              12         0.786676         0.780676   \n",
       "3       0.004694               9         0.779218         0.771805   \n",
       "4       0.004684               5         0.781222         0.772074   \n",
       "\n",
       "   split2_test_mae  mean_test_mae  std_test_mae  rank_test_mae  mean_fit_time  \\\n",
       "0         0.773864       0.776012      0.003971              9       0.686480   \n",
       "1         0.765886       0.768598      0.003548              1       0.415202   \n",
       "2         0.779680       0.782344      0.003090             12       0.493044   \n",
       "3         0.772448       0.774491      0.003353              4       0.417654   \n",
       "4         0.773493       0.775596      0.004020              8       0.565860   \n",
       "\n",
       "   std_fit_time  mean_test_time  std_test_time  \\\n",
       "0      0.034866        4.870000       0.080062   \n",
       "1      0.083791        4.943530       0.067708   \n",
       "2      0.077887        4.999586       0.195549   \n",
       "3      0.000891        4.541776       0.076840   \n",
       "4      0.011894        4.607016       0.085404   \n",
       "\n",
       "                                              params  param_k  param_min_k  \\\n",
       "0  {'k': 30, 'min_k': 5, 'sim_options': {'name': ...       30            5   \n",
       "1  {'k': 30, 'min_k': 5, 'sim_options': {'name': ...       30            5   \n",
       "2  {'k': 30, 'min_k': 10, 'sim_options': {'name':...       30           10   \n",
       "3  {'k': 30, 'min_k': 10, 'sim_options': {'name':...       30           10   \n",
       "4  {'k': 40, 'min_k': 5, 'sim_options': {'name': ...       40            5   \n",
       "\n",
       "                         param_sim_options  \n",
       "0  {'name': 'pearson', 'user_based': True}  \n",
       "1   {'name': 'cosine', 'user_based': True}  \n",
       "2  {'name': 'pearson', 'user_based': True}  \n",
       "3   {'name': 'cosine', 'user_based': True}  \n",
       "4  {'name': 'pearson', 'user_based': True}  "
      ]
     },
     "execution_count": 29,
     "metadata": {},
     "output_type": "execute_result"
    }
   ],
   "source": [
    "results_df = pd.DataFrame.from_dict(grid_obj.cv_results)\n",
    "results_df.head()"
   ]
  },
  {
   "cell_type": "code",
   "execution_count": 30,
   "metadata": {
    "id": "PujRJA8X_JEJ"
   },
   "outputs": [
    {
     "name": "stdout",
     "output_type": "stream",
     "text": [
      "RMSE: 0.9901\n"
     ]
    },
    {
     "data": {
      "text/plain": [
       "0.9900753719644309"
      ]
     },
     "execution_count": 30,
     "metadata": {},
     "output_type": "execute_result"
    }
   ],
   "source": [
    "# Instantiate > Train > Evaluate\n",
    "KNN_USER_USER_optimized = KNNBasic(k=grid_obj.best_params['rmse']['k'], \n",
    "                                   min_k=grid_obj.best_params['rmse']['min_k'], \n",
    "                                   sim_options=grid_obj.best_params['rmse']['sim_options'], \n",
    "                                   verbose=False)\n",
    "KNN_USER_USER_optimized.fit(TRAIN)\n",
    "\n",
    "predictions = KNN_USER_USER_optimized.test(TEST)\n",
    "accuracy.rmse(predictions)"
   ]
  },
  {
   "cell_type": "markdown",
   "metadata": {
    "id": "YA37vQ6qnVNG"
   },
   "source": [
    "As can be seen from the output, the user-user tuned model has RMSE of 0.9901, which is slightly better than the previous 0.9925."
   ]
  },
  {
   "cell_type": "markdown",
   "metadata": {
    "id": "3gZQybgVwIB1"
   },
   "source": [
    "### **Prediction**"
   ]
  },
  {
   "cell_type": "markdown",
   "metadata": {
    "id": "YhcAXK0CnVNG"
   },
   "source": [
    "**userId=4, movieId=10**"
   ]
  },
  {
   "cell_type": "code",
   "execution_count": 31,
   "metadata": {
    "id": "FgV63lHiq1TV"
   },
   "outputs": [
    {
     "data": {
      "text/plain": [
       "Prediction(uid=4, iid=10, r_ui=4, est=3.530256666415297, details={'actual_k': 50, 'was_impossible': False})"
      ]
     },
     "execution_count": 31,
     "metadata": {},
     "output_type": "execute_result"
    }
   ],
   "source": [
    "KNN_USER_USER_optimized.predict(uid=4, iid=10, r_ui=4, verbose=False)"
   ]
  },
  {
   "cell_type": "markdown",
   "metadata": {
    "id": "AMBeqeUtnVNG"
   },
   "source": [
    "Based on the user-user similarity model, the predicted rating is 3.53, which is no better than the previous 3.62. "
   ]
  },
  {
   "cell_type": "markdown",
   "metadata": {
    "id": "P1JLqz6mnVNH"
   },
   "source": [
    "**userId=4, movieId=3**"
   ]
  },
  {
   "cell_type": "code",
   "execution_count": 32,
   "metadata": {
    "id": "HXO2Ztjhq1bN"
   },
   "outputs": [
    {
     "data": {
      "text/plain": [
       "Prediction(uid=4, iid=3, r_ui=None, est=3.0392765787355085, details={'actual_k': 48, 'was_impossible': False})"
      ]
     },
     "execution_count": 32,
     "metadata": {},
     "output_type": "execute_result"
    }
   ],
   "source": [
    "KNN_USER_USER_optimized.predict(uid=4, iid=3, verbose=False)"
   ]
  },
  {
   "cell_type": "markdown",
   "metadata": {
    "id": "PN_tYvepnVNH"
   },
   "source": [
    "Based on the user-user similarity model, the predicted rating is 3.03 for the unwatched movieId 3, which is slightly lower than the previous 3.20."
   ]
  },
  {
   "cell_type": "markdown",
   "metadata": {
    "id": "o2QsfqhanVNH"
   },
   "source": [
    "### **K Nearest Neighbors**"
   ]
  },
  {
   "cell_type": "code",
   "execution_count": 33,
   "metadata": {
    "id": "evkmTb6P5HYO"
   },
   "outputs": [
    {
     "data": {
      "text/plain": [
       "[357, 220, 590, 491, 647]"
      ]
     },
     "execution_count": 33,
     "metadata": {},
     "output_type": "execute_result"
    }
   ],
   "source": [
    "KNN_USER_USER_optimized.get_neighbors(iid=4, k=5)"
   ]
  },
  {
   "cell_type": "markdown",
   "metadata": {},
   "source": [
    "### **Recommendations**"
   ]
  },
  {
   "cell_type": "code",
   "execution_count": 34,
   "metadata": {
    "id": "qWbR85mI5Hrk"
   },
   "outputs": [
    {
     "data": {
      "text/plain": [
       "[(98491, 4.832340578646058),\n",
       " (116, 4.753206589295344),\n",
       " (6669, 4.748048450384675),\n",
       " (178, 4.699972510945085),\n",
       " (7116, 4.698337052222263)]"
      ]
     },
     "execution_count": 34,
     "metadata": {},
     "output_type": "execute_result"
    }
   ],
   "source": [
    "recommendations = provide_recommendations(df=df, customer_id=4, reco_n=5, reco_model=KNN_USER_USER_optimized)\n",
    "recommendations"
   ]
  },
  {
   "cell_type": "markdown",
   "metadata": {
    "id": "pqm4J6aQwICB"
   },
   "source": [
    "## **Model 3: Item-Based Collaborative Filtering Recommendation System**"
   ]
  },
  {
   "cell_type": "markdown",
   "metadata": {},
   "source": [
    "### **Baseline - Item-Item Similarity**"
   ]
  },
  {
   "cell_type": "code",
   "execution_count": 35,
   "metadata": {
    "id": "fa8W64l5wICB"
   },
   "outputs": [
    {
     "name": "stdout",
     "output_type": "stream",
     "text": [
      "RMSE: 1.0032\n"
     ]
    },
    {
     "data": {
      "text/plain": [
       "1.003221450633729"
      ]
     },
     "execution_count": 35,
     "metadata": {},
     "output_type": "execute_result"
    }
   ],
   "source": [
    "# Instantiate > Train > Evaluate\n",
    "sim_options = {'name': 'cosine', 'user_based': False}\n",
    "KNN_ITEM_ITEM = KNNBasic(sim_options=sim_options, verbose=False)\n",
    "KNN_ITEM_ITEM.fit(TRAIN)\n",
    "\n",
    "predictions = KNN_ITEM_ITEM.test(TEST)\n",
    "accuracy.rmse(predictions)"
   ]
  },
  {
   "cell_type": "markdown",
   "metadata": {
    "id": "oW6HXjoVwICC"
   },
   "source": [
    "### **Score**"
   ]
  },
  {
   "cell_type": "markdown",
   "metadata": {
    "id": "dsagkpFDwICD"
   },
   "source": [
    "As can be seen from the output, the item-item baseline model has RMSE of 1.0032."
   ]
  },
  {
   "cell_type": "markdown",
   "metadata": {
    "id": "egyW6VMYwICD"
   },
   "source": [
    "### **Prediction**"
   ]
  },
  {
   "cell_type": "markdown",
   "metadata": {},
   "source": [
    "**userId=4, movieId=10**"
   ]
  },
  {
   "cell_type": "code",
   "execution_count": 36,
   "metadata": {
    "id": "RmzxmaDbwICE",
    "scrolled": true
   },
   "outputs": [
    {
     "data": {
      "text/plain": [
       "Prediction(uid=4, iid=10, r_ui=4, est=4.373794871885004, details={'actual_k': 40, 'was_impossible': False})"
      ]
     },
     "execution_count": 36,
     "metadata": {},
     "output_type": "execute_result"
    }
   ],
   "source": [
    "KNN_ITEM_ITEM.predict(uid=4, iid=10, r_ui=4, verbose=False)"
   ]
  },
  {
   "cell_type": "markdown",
   "metadata": {
    "id": "fyPeJdK6wICF"
   },
   "source": [
    "Based on the item-item similarity model, the predicted rating is 4.37, while the actual rating is 4."
   ]
  },
  {
   "cell_type": "markdown",
   "metadata": {},
   "source": [
    "**userId=4, movieId=3**"
   ]
  },
  {
   "cell_type": "code",
   "execution_count": 37,
   "metadata": {
    "id": "-l8G1XG5wICG"
   },
   "outputs": [
    {
     "data": {
      "text/plain": [
       "Prediction(uid=4, iid=3, r_ui=None, est=4.071601862880049, details={'actual_k': 40, 'was_impossible': False})"
      ]
     },
     "execution_count": 37,
     "metadata": {},
     "output_type": "execute_result"
    }
   ],
   "source": [
    "KNN_ITEM_ITEM.predict(uid=4, iid=3, verbose=False)"
   ]
  },
  {
   "cell_type": "markdown",
   "metadata": {
    "id": "WKqI9IyhwICH"
   },
   "source": [
    "Based on the item-item similarity model, the predicted rating is 4.07 for the unwatched movieId 3."
   ]
  },
  {
   "cell_type": "markdown",
   "metadata": {},
   "source": [
    "### **Tuned - Item-Item Similarity**"
   ]
  },
  {
   "cell_type": "markdown",
   "metadata": {
    "id": "utHBZ67JwICI"
   },
   "source": [
    "### **Hyperparameter Tuning**"
   ]
  },
  {
   "cell_type": "code",
   "execution_count": 38,
   "metadata": {
    "id": "0ZmIvW--wICJ"
   },
   "outputs": [
    {
     "name": "stdout",
     "output_type": "stream",
     "text": [
      "0.9853900096276677\n",
      "{'k': 50, 'min_k': 5, 'sim_options': {'name': 'pearson', 'user_based': False}}\n"
     ]
    }
   ],
   "source": [
    "# Use Grid-Search CV to choose the optimal hyperparameters\n",
    "param_grid = {\n",
    "    'k': [30, 40, 50],\n",
    "    'min_k': [5, 10, 15],\n",
    "    'sim_options': {'name': ['pearson', 'cosine'], 'user_based': [False]}\n",
    "}\n",
    "\n",
    "grid_obj = GridSearchCV(KNNBasic, param_grid, measures=['rmse', 'mae'], cv=3, n_jobs=-1)\n",
    "grid_obj.fit(surprise)\n",
    "\n",
    "print(grid_obj.best_score['rmse'])\n",
    "print(grid_obj.best_params['rmse'])"
   ]
  },
  {
   "cell_type": "code",
   "execution_count": 39,
   "metadata": {
    "id": "ITKMae3LwICL",
    "scrolled": false
   },
   "outputs": [
    {
     "data": {
      "text/html": [
       "<div>\n",
       "<style scoped>\n",
       "    .dataframe tbody tr th:only-of-type {\n",
       "        vertical-align: middle;\n",
       "    }\n",
       "\n",
       "    .dataframe tbody tr th {\n",
       "        vertical-align: top;\n",
       "    }\n",
       "\n",
       "    .dataframe thead th {\n",
       "        text-align: right;\n",
       "    }\n",
       "</style>\n",
       "<table border=\"1\" class=\"dataframe\">\n",
       "  <thead>\n",
       "    <tr style=\"text-align: right;\">\n",
       "      <th></th>\n",
       "      <th>split0_test_rmse</th>\n",
       "      <th>split1_test_rmse</th>\n",
       "      <th>split2_test_rmse</th>\n",
       "      <th>mean_test_rmse</th>\n",
       "      <th>std_test_rmse</th>\n",
       "      <th>rank_test_rmse</th>\n",
       "      <th>split0_test_mae</th>\n",
       "      <th>split1_test_mae</th>\n",
       "      <th>split2_test_mae</th>\n",
       "      <th>mean_test_mae</th>\n",
       "      <th>std_test_mae</th>\n",
       "      <th>rank_test_mae</th>\n",
       "      <th>mean_fit_time</th>\n",
       "      <th>std_fit_time</th>\n",
       "      <th>mean_test_time</th>\n",
       "      <th>std_test_time</th>\n",
       "      <th>params</th>\n",
       "      <th>param_k</th>\n",
       "      <th>param_min_k</th>\n",
       "      <th>param_sim_options</th>\n",
       "    </tr>\n",
       "  </thead>\n",
       "  <tbody>\n",
       "    <tr>\n",
       "      <th>0</th>\n",
       "      <td>0.992792</td>\n",
       "      <td>0.996070</td>\n",
       "      <td>0.991569</td>\n",
       "      <td>0.993477</td>\n",
       "      <td>0.001900</td>\n",
       "      <td>10</td>\n",
       "      <td>0.770000</td>\n",
       "      <td>0.774023</td>\n",
       "      <td>0.770968</td>\n",
       "      <td>0.771664</td>\n",
       "      <td>0.001714</td>\n",
       "      <td>9</td>\n",
       "      <td>31.249009</td>\n",
       "      <td>0.387966</td>\n",
       "      <td>22.821637</td>\n",
       "      <td>0.277182</td>\n",
       "      <td>{'k': 30, 'min_k': 5, 'sim_options': {'name': ...</td>\n",
       "      <td>30</td>\n",
       "      <td>5</td>\n",
       "      <td>{'name': 'pearson', 'user_based': False}</td>\n",
       "    </tr>\n",
       "    <tr>\n",
       "      <th>1</th>\n",
       "      <td>1.001681</td>\n",
       "      <td>0.999912</td>\n",
       "      <td>1.000560</td>\n",
       "      <td>1.000718</td>\n",
       "      <td>0.000731</td>\n",
       "      <td>16</td>\n",
       "      <td>0.780479</td>\n",
       "      <td>0.778672</td>\n",
       "      <td>0.779788</td>\n",
       "      <td>0.779646</td>\n",
       "      <td>0.000745</td>\n",
       "      <td>16</td>\n",
       "      <td>12.370301</td>\n",
       "      <td>5.467715</td>\n",
       "      <td>25.167552</td>\n",
       "      <td>1.717683</td>\n",
       "      <td>{'k': 30, 'min_k': 5, 'sim_options': {'name': ...</td>\n",
       "      <td>30</td>\n",
       "      <td>5</td>\n",
       "      <td>{'name': 'cosine', 'user_based': False}</td>\n",
       "    </tr>\n",
       "    <tr>\n",
       "      <th>2</th>\n",
       "      <td>0.994395</td>\n",
       "      <td>0.996438</td>\n",
       "      <td>0.994072</td>\n",
       "      <td>0.994968</td>\n",
       "      <td>0.001047</td>\n",
       "      <td>13</td>\n",
       "      <td>0.772779</td>\n",
       "      <td>0.775691</td>\n",
       "      <td>0.774507</td>\n",
       "      <td>0.774326</td>\n",
       "      <td>0.001195</td>\n",
       "      <td>12</td>\n",
       "      <td>13.214802</td>\n",
       "      <td>3.638203</td>\n",
       "      <td>21.367029</td>\n",
       "      <td>0.435640</td>\n",
       "      <td>{'k': 30, 'min_k': 10, 'sim_options': {'name':...</td>\n",
       "      <td>30</td>\n",
       "      <td>10</td>\n",
       "      <td>{'name': 'pearson', 'user_based': False}</td>\n",
       "    </tr>\n",
       "    <tr>\n",
       "      <th>3</th>\n",
       "      <td>1.001437</td>\n",
       "      <td>1.001197</td>\n",
       "      <td>1.001807</td>\n",
       "      <td>1.001480</td>\n",
       "      <td>0.000251</td>\n",
       "      <td>17</td>\n",
       "      <td>0.780333</td>\n",
       "      <td>0.779800</td>\n",
       "      <td>0.780563</td>\n",
       "      <td>0.780232</td>\n",
       "      <td>0.000320</td>\n",
       "      <td>17</td>\n",
       "      <td>6.464274</td>\n",
       "      <td>0.426525</td>\n",
       "      <td>23.082370</td>\n",
       "      <td>0.986075</td>\n",
       "      <td>{'k': 30, 'min_k': 10, 'sim_options': {'name':...</td>\n",
       "      <td>30</td>\n",
       "      <td>10</td>\n",
       "      <td>{'name': 'cosine', 'user_based': False}</td>\n",
       "    </tr>\n",
       "    <tr>\n",
       "      <th>4</th>\n",
       "      <td>0.998068</td>\n",
       "      <td>0.999165</td>\n",
       "      <td>0.997507</td>\n",
       "      <td>0.998247</td>\n",
       "      <td>0.000689</td>\n",
       "      <td>15</td>\n",
       "      <td>0.778154</td>\n",
       "      <td>0.780166</td>\n",
       "      <td>0.779647</td>\n",
       "      <td>0.779323</td>\n",
       "      <td>0.000853</td>\n",
       "      <td>15</td>\n",
       "      <td>12.768310</td>\n",
       "      <td>1.852909</td>\n",
       "      <td>26.030743</td>\n",
       "      <td>0.814725</td>\n",
       "      <td>{'k': 30, 'min_k': 15, 'sim_options': {'name':...</td>\n",
       "      <td>30</td>\n",
       "      <td>15</td>\n",
       "      <td>{'name': 'pearson', 'user_based': False}</td>\n",
       "    </tr>\n",
       "  </tbody>\n",
       "</table>\n",
       "</div>"
      ],
      "text/plain": [
       "   split0_test_rmse  split1_test_rmse  split2_test_rmse  mean_test_rmse  \\\n",
       "0          0.992792          0.996070          0.991569        0.993477   \n",
       "1          1.001681          0.999912          1.000560        1.000718   \n",
       "2          0.994395          0.996438          0.994072        0.994968   \n",
       "3          1.001437          1.001197          1.001807        1.001480   \n",
       "4          0.998068          0.999165          0.997507        0.998247   \n",
       "\n",
       "   std_test_rmse  rank_test_rmse  split0_test_mae  split1_test_mae  \\\n",
       "0       0.001900              10         0.770000         0.774023   \n",
       "1       0.000731              16         0.780479         0.778672   \n",
       "2       0.001047              13         0.772779         0.775691   \n",
       "3       0.000251              17         0.780333         0.779800   \n",
       "4       0.000689              15         0.778154         0.780166   \n",
       "\n",
       "   split2_test_mae  mean_test_mae  std_test_mae  rank_test_mae  mean_fit_time  \\\n",
       "0         0.770968       0.771664      0.001714              9      31.249009   \n",
       "1         0.779788       0.779646      0.000745             16      12.370301   \n",
       "2         0.774507       0.774326      0.001195             12      13.214802   \n",
       "3         0.780563       0.780232      0.000320             17       6.464274   \n",
       "4         0.779647       0.779323      0.000853             15      12.768310   \n",
       "\n",
       "   std_fit_time  mean_test_time  std_test_time  \\\n",
       "0      0.387966       22.821637       0.277182   \n",
       "1      5.467715       25.167552       1.717683   \n",
       "2      3.638203       21.367029       0.435640   \n",
       "3      0.426525       23.082370       0.986075   \n",
       "4      1.852909       26.030743       0.814725   \n",
       "\n",
       "                                              params  param_k  param_min_k  \\\n",
       "0  {'k': 30, 'min_k': 5, 'sim_options': {'name': ...       30            5   \n",
       "1  {'k': 30, 'min_k': 5, 'sim_options': {'name': ...       30            5   \n",
       "2  {'k': 30, 'min_k': 10, 'sim_options': {'name':...       30           10   \n",
       "3  {'k': 30, 'min_k': 10, 'sim_options': {'name':...       30           10   \n",
       "4  {'k': 30, 'min_k': 15, 'sim_options': {'name':...       30           15   \n",
       "\n",
       "                          param_sim_options  \n",
       "0  {'name': 'pearson', 'user_based': False}  \n",
       "1   {'name': 'cosine', 'user_based': False}  \n",
       "2  {'name': 'pearson', 'user_based': False}  \n",
       "3   {'name': 'cosine', 'user_based': False}  \n",
       "4  {'name': 'pearson', 'user_based': False}  "
      ]
     },
     "execution_count": 39,
     "metadata": {},
     "output_type": "execute_result"
    }
   ],
   "source": [
    "results_df = pd.DataFrame.from_dict(grid_obj.cv_results)\n",
    "results_df.head()"
   ]
  },
  {
   "cell_type": "code",
   "execution_count": 40,
   "metadata": {
    "id": "46irii4pwICL"
   },
   "outputs": [
    {
     "name": "stdout",
     "output_type": "stream",
     "text": [
      "RMSE: 0.9902\n"
     ]
    },
    {
     "data": {
      "text/plain": [
       "0.9902304322662595"
      ]
     },
     "execution_count": 40,
     "metadata": {},
     "output_type": "execute_result"
    }
   ],
   "source": [
    "# Instantiate > Train > Evaluate\n",
    "KNN_ITEM_ITEM_optimized = KNNBasic(k=grid_obj.best_params['rmse']['k'], \n",
    "                                   min_k=grid_obj.best_params['rmse']['min_k'], \n",
    "                                   sim_options=grid_obj.best_params['rmse']['sim_options'], \n",
    "                                   verbose=False)\n",
    "KNN_ITEM_ITEM_optimized.fit(TRAIN)\n",
    "\n",
    "predictions = KNN_ITEM_ITEM_optimized.test(TEST)\n",
    "accuracy.rmse(predictions)"
   ]
  },
  {
   "cell_type": "markdown",
   "metadata": {
    "id": "OTdrMpQUwICM"
   },
   "source": [
    "As can be seen from the output, the item-item tuned model has RMSE of 0.9902, which is slightly better than the previous 1.0032."
   ]
  },
  {
   "cell_type": "markdown",
   "metadata": {
    "id": "tiDcRQDvwICN"
   },
   "source": [
    "### **Prediction**"
   ]
  },
  {
   "cell_type": "markdown",
   "metadata": {
    "id": "5IGjjEtpwICN"
   },
   "source": [
    "**userId=4, movieId=10**"
   ]
  },
  {
   "cell_type": "code",
   "execution_count": 41,
   "metadata": {
    "id": "Wg8APEG4wICO"
   },
   "outputs": [
    {
     "data": {
      "text/plain": [
       "Prediction(uid=4, iid=10, r_ui=4, est=4.377003466107858, details={'actual_k': 50, 'was_impossible': False})"
      ]
     },
     "execution_count": 41,
     "metadata": {},
     "output_type": "execute_result"
    }
   ],
   "source": [
    "KNN_ITEM_ITEM_optimized.predict(uid=4, iid=10, r_ui=4, verbose=False)"
   ]
  },
  {
   "cell_type": "markdown",
   "metadata": {
    "id": "qUXl61_5wICP"
   },
   "source": [
    "Based on the item-item similarity model, the predicted rating is 4.377, which is almost the same with the previous 4.373."
   ]
  },
  {
   "cell_type": "markdown",
   "metadata": {
    "id": "HDNNs3cqwICP"
   },
   "source": [
    "**userId=4, movieId=3**"
   ]
  },
  {
   "cell_type": "code",
   "execution_count": 42,
   "metadata": {
    "id": "oEew8TwvwICQ"
   },
   "outputs": [
    {
     "data": {
      "text/plain": [
       "Prediction(uid=4, iid=3, r_ui=None, est=4.0957082898049375, details={'actual_k': 50, 'was_impossible': False})"
      ]
     },
     "execution_count": 42,
     "metadata": {},
     "output_type": "execute_result"
    }
   ],
   "source": [
    "KNN_ITEM_ITEM_optimized.predict(uid=4, iid=3, verbose=False)"
   ]
  },
  {
   "cell_type": "markdown",
   "metadata": {
    "id": "sTKvXHU0wICR"
   },
   "source": [
    "Based on the item-item similarity model, the predicted rating is 4.09 for the unwatched movieId 3, which is almost the same with the previous 4.07."
   ]
  },
  {
   "cell_type": "markdown",
   "metadata": {
    "id": "xquRIW-XwICS"
   },
   "source": [
    "### **K Nearest Neighbors**"
   ]
  },
  {
   "cell_type": "code",
   "execution_count": 43,
   "metadata": {
    "id": "b4HbXJv-wICS"
   },
   "outputs": [
    {
     "data": {
      "text/plain": [
       "[3, 12, 33, 61, 75]"
      ]
     },
     "execution_count": 43,
     "metadata": {},
     "output_type": "execute_result"
    }
   ],
   "source": [
    "KNN_ITEM_ITEM_optimized.get_neighbors(iid=4, k=5)"
   ]
  },
  {
   "cell_type": "markdown",
   "metadata": {
    "id": "_cDPuGWcwICb"
   },
   "source": [
    "### **Recommendations**"
   ]
  },
  {
   "cell_type": "code",
   "execution_count": 44,
   "metadata": {
    "id": "RAzdWtCSwICa"
   },
   "outputs": [
    {
     "data": {
      "text/plain": [
       "[(37, 5), (68, 5), (154, 5), (269, 5), (331, 5)]"
      ]
     },
     "execution_count": 44,
     "metadata": {},
     "output_type": "execute_result"
    }
   ],
   "source": [
    "recommendations = provide_recommendations(df=df, customer_id=4, reco_n=5, reco_model=KNN_ITEM_ITEM_optimized)\n",
    "recommendations"
   ]
  },
  {
   "cell_type": "markdown",
   "metadata": {
    "id": "rKgJpSA9vOOL"
   },
   "source": [
    "## **Model 4: Model-Based Collaborative Filtering Recommendation System**"
   ]
  },
  {
   "cell_type": "markdown",
   "metadata": {
    "id": "n4Otha8ovOOL"
   },
   "source": [
    "### **Singular Value Decomposition (SVD)**"
   ]
  },
  {
   "cell_type": "markdown",
   "metadata": {
    "id": "3sGl3QkLvOOL"
   },
   "source": [
    "- Computes the latent features from the user-item matrix\n",
    "- Does not work when missing values are present in the matrix \n",
    "- Decomposition (n: Users, m: Items, k: Latent Features):\n",
    "  - U matrix (n * k)\n",
    "  - Sigma matrix (k * k)\n",
    "  - V transpose matrix (k * m)"
   ]
  },
  {
   "cell_type": "markdown",
   "metadata": {
    "id": "uOtkUXmAnVNL"
   },
   "source": [
    "### **Baseline - Matrix Factorization**"
   ]
  },
  {
   "cell_type": "code",
   "execution_count": 45,
   "metadata": {
    "id": "07-2PT5Ssjqm"
   },
   "outputs": [
    {
     "name": "stdout",
     "output_type": "stream",
     "text": [
      "RMSE: 0.9011\n"
     ]
    },
    {
     "data": {
      "text/plain": [
       "0.9010587817257045"
      ]
     },
     "execution_count": 45,
     "metadata": {},
     "output_type": "execute_result"
    }
   ],
   "source": [
    "# Instantiate > Train > Evaluate\n",
    "MF_USER_ITEM = SVD()\n",
    "MF_USER_ITEM.fit(TRAIN)\n",
    "\n",
    "predictions = MF_USER_ITEM.test(TEST)\n",
    "accuracy.rmse(predictions)"
   ]
  },
  {
   "cell_type": "markdown",
   "metadata": {
    "id": "2271PkTuwICu"
   },
   "source": [
    "### **Score**"
   ]
  },
  {
   "cell_type": "markdown",
   "metadata": {
    "id": "BQ6fTuCDnVNL"
   },
   "source": [
    "As can be seen from the output, the user-item baseline model has RMSE of 0.9011."
   ]
  },
  {
   "cell_type": "markdown",
   "metadata": {
    "id": "fsBGQrwCwICv"
   },
   "source": [
    "### **Prediction**"
   ]
  },
  {
   "cell_type": "markdown",
   "metadata": {
    "id": "HD2AU1DnnVNM"
   },
   "source": [
    "**userId=4, movieId=10**"
   ]
  },
  {
   "cell_type": "code",
   "execution_count": 46,
   "metadata": {
    "id": "yWIhfdxXsjqm"
   },
   "outputs": [
    {
     "data": {
      "text/plain": [
       "Prediction(uid=4, iid=10, r_ui=4, est=3.9537167508065068, details={'was_impossible': False})"
      ]
     },
     "execution_count": 46,
     "metadata": {},
     "output_type": "execute_result"
    }
   ],
   "source": [
    "MF_USER_ITEM.predict(uid=4, iid=10, r_ui=4, verbose=False)"
   ]
  },
  {
   "cell_type": "markdown",
   "metadata": {
    "id": "oIjzqDY5nVNM"
   },
   "source": [
    "Based on the user-item similarity model, the predicted rating is 3.95, while the actual rating is 4."
   ]
  },
  {
   "cell_type": "markdown",
   "metadata": {
    "id": "I1aYxVeMnVNM"
   },
   "source": [
    "**userId=4, movieId=3**"
   ]
  },
  {
   "cell_type": "code",
   "execution_count": 47,
   "metadata": {
    "id": "APm-uMSvcAMf"
   },
   "outputs": [
    {
     "data": {
      "text/plain": [
       "Prediction(uid=4, iid=3, r_ui=None, est=3.8873139661358236, details={'was_impossible': False})"
      ]
     },
     "execution_count": 47,
     "metadata": {},
     "output_type": "execute_result"
    }
   ],
   "source": [
    "MF_USER_ITEM.predict(uid=4, iid=3, verbose=False)"
   ]
  },
  {
   "cell_type": "markdown",
   "metadata": {
    "id": "NEL6dy3wnVNM"
   },
   "source": [
    "Based on the user-item similarity model, the predicted rating is 3.88 for the unwatched movieId 3."
   ]
  },
  {
   "cell_type": "markdown",
   "metadata": {
    "id": "x13Eb9Owvpcw"
   },
   "source": [
    "### **Tuned - Matrix Factorization**"
   ]
  },
  {
   "cell_type": "markdown",
   "metadata": {},
   "source": [
    "To make prediction:"
   ]
  },
  {
   "cell_type": "markdown",
   "metadata": {
    "id": "Wp38lmEqnVNM"
   },
   "source": [
    "$$\\hat{r}_{u i}=\\mu+b_{u}+b_{i}+q_{i}^{T} p_{u}$$"
   ]
  },
  {
   "cell_type": "markdown",
   "metadata": {
    "id": "bHVAYuFznVNN"
   },
   "source": [
    "- _If user $u$ is unknown, then the bias $b_{u}$ and the factors $p_{u}$ are assumed to be zero._\n",
    "- _If item $i$ is unknown, then the bias $b_{i}$ and the factors $q_{i}$ are assumed to be zero._"
   ]
  },
  {
   "cell_type": "markdown",
   "metadata": {
    "id": "jCfY5mr7nVNN"
   },
   "source": [
    "To estimate all the unknown, we minimize the regularized squared error:"
   ]
  },
  {
   "cell_type": "markdown",
   "metadata": {
    "id": "1WyyjmK7nVNN"
   },
   "source": [
    "$$\\sum_{r_{u i} \\in R_{\\text {train }}}\\left(r_{u i}-\\hat{r}_{u i}\\right)^{2}+\\lambda\\left(b_{i}^{2}+b_{u}^{2}+\\left\\|q_{i}\\right\\|^{2}+\\left\\|p_{u}\\right\\|^{2}\\right)$$"
   ]
  },
  {
   "cell_type": "markdown",
   "metadata": {
    "id": "-GBMNL9qnVNN"
   },
   "source": [
    "The minimization is performed by a very straightforward **Stochastic Gradient Descent**:"
   ]
  },
  {
   "cell_type": "markdown",
   "metadata": {
    "id": "CwJJRsJGnVNN"
   },
   "source": [
    "$$\\begin{aligned} b_{u} & \\leftarrow b_{u}+\\gamma\\left(e_{u i}-\\lambda b_{u}\\right) \\\\ b_{i} & \\leftarrow b_{i}+\\gamma\\left(e_{u i}-\\lambda b_{i}\\right) \\\\ p_{u} & \\leftarrow p_{u}+\\gamma\\left(e_{u i} \\cdot q_{i}-\\lambda p_{u}\\right) \\\\ q_{i} & \\leftarrow q_{i}+\\gamma\\left(e_{u i} \\cdot p_{u}-\\lambda q_{i}\\right) \\end{aligned}$$"
   ]
  },
  {
   "cell_type": "markdown",
   "metadata": {
    "id": "iQcDPhhcnVNN"
   },
   "source": [
    "Some of the hyperparameters are:\n",
    "- **n_epochs**: The number of iteration of the SGD algorithm\n",
    "- **lr_all**: The learning rate for all parameters\n",
    "- **reg_all**: The regularization term for all parameters"
   ]
  },
  {
   "cell_type": "markdown",
   "metadata": {
    "id": "ksN4zUnUwIC_"
   },
   "source": [
    "### **Hyperparameter Tuning**"
   ]
  },
  {
   "cell_type": "code",
   "execution_count": 48,
   "metadata": {
    "id": "4bM81V_hvtwv"
   },
   "outputs": [
    {
     "name": "stdout",
     "output_type": "stream",
     "text": [
      "0.8928713513778416\n",
      "{'n_factors': 150, 'n_epochs': 30, 'lr_all': 0.01, 'reg_all': 0.2}\n"
     ]
    }
   ],
   "source": [
    "# Use Grid-Search CV to choose the optimal hyperparameters\n",
    "param_grid = {\n",
    "    'n_factors': [50, 100, 150],\n",
    "    'n_epochs': [10, 20, 30], \n",
    "    'lr_all': [0.001, 0.005, 0.01],\n",
    "    'reg_all': [0.2, 0.4, 0.6]\n",
    "}\n",
    "\n",
    "grid_obj = GridSearchCV(SVD, param_grid, measures=['rmse', 'mae'], cv=3, n_jobs=-1)\n",
    "grid_obj.fit(surprise)\n",
    "\n",
    "print(grid_obj.best_score['rmse'])\n",
    "print(grid_obj.best_params['rmse'])"
   ]
  },
  {
   "cell_type": "code",
   "execution_count": 49,
   "metadata": {
    "id": "RMb3t3z_vt8W"
   },
   "outputs": [
    {
     "data": {
      "text/html": [
       "<div>\n",
       "<style scoped>\n",
       "    .dataframe tbody tr th:only-of-type {\n",
       "        vertical-align: middle;\n",
       "    }\n",
       "\n",
       "    .dataframe tbody tr th {\n",
       "        vertical-align: top;\n",
       "    }\n",
       "\n",
       "    .dataframe thead th {\n",
       "        text-align: right;\n",
       "    }\n",
       "</style>\n",
       "<table border=\"1\" class=\"dataframe\">\n",
       "  <thead>\n",
       "    <tr style=\"text-align: right;\">\n",
       "      <th></th>\n",
       "      <th>split0_test_rmse</th>\n",
       "      <th>split1_test_rmse</th>\n",
       "      <th>split2_test_rmse</th>\n",
       "      <th>mean_test_rmse</th>\n",
       "      <th>std_test_rmse</th>\n",
       "      <th>rank_test_rmse</th>\n",
       "      <th>split0_test_mae</th>\n",
       "      <th>split1_test_mae</th>\n",
       "      <th>split2_test_mae</th>\n",
       "      <th>mean_test_mae</th>\n",
       "      <th>...</th>\n",
       "      <th>rank_test_mae</th>\n",
       "      <th>mean_fit_time</th>\n",
       "      <th>std_fit_time</th>\n",
       "      <th>mean_test_time</th>\n",
       "      <th>std_test_time</th>\n",
       "      <th>params</th>\n",
       "      <th>param_n_factors</th>\n",
       "      <th>param_n_epochs</th>\n",
       "      <th>param_lr_all</th>\n",
       "      <th>param_reg_all</th>\n",
       "    </tr>\n",
       "  </thead>\n",
       "  <tbody>\n",
       "    <tr>\n",
       "      <th>0</th>\n",
       "      <td>0.947318</td>\n",
       "      <td>0.939267</td>\n",
       "      <td>0.938527</td>\n",
       "      <td>0.941704</td>\n",
       "      <td>0.003981</td>\n",
       "      <td>73</td>\n",
       "      <td>0.741294</td>\n",
       "      <td>0.732447</td>\n",
       "      <td>0.737568</td>\n",
       "      <td>0.737103</td>\n",
       "      <td>...</td>\n",
       "      <td>73</td>\n",
       "      <td>0.559676</td>\n",
       "      <td>0.026104</td>\n",
       "      <td>1.131895</td>\n",
       "      <td>0.092414</td>\n",
       "      <td>{'n_factors': 50, 'n_epochs': 10, 'lr_all': 0....</td>\n",
       "      <td>50</td>\n",
       "      <td>10</td>\n",
       "      <td>0.001</td>\n",
       "      <td>0.2</td>\n",
       "    </tr>\n",
       "    <tr>\n",
       "      <th>1</th>\n",
       "      <td>0.952929</td>\n",
       "      <td>0.944260</td>\n",
       "      <td>0.943590</td>\n",
       "      <td>0.946926</td>\n",
       "      <td>0.004253</td>\n",
       "      <td>76</td>\n",
       "      <td>0.747210</td>\n",
       "      <td>0.737987</td>\n",
       "      <td>0.743010</td>\n",
       "      <td>0.742736</td>\n",
       "      <td>...</td>\n",
       "      <td>76</td>\n",
       "      <td>0.584021</td>\n",
       "      <td>0.109923</td>\n",
       "      <td>1.069749</td>\n",
       "      <td>0.137123</td>\n",
       "      <td>{'n_factors': 50, 'n_epochs': 10, 'lr_all': 0....</td>\n",
       "      <td>50</td>\n",
       "      <td>10</td>\n",
       "      <td>0.001</td>\n",
       "      <td>0.4</td>\n",
       "    </tr>\n",
       "    <tr>\n",
       "      <th>2</th>\n",
       "      <td>0.958082</td>\n",
       "      <td>0.949680</td>\n",
       "      <td>0.949425</td>\n",
       "      <td>0.952396</td>\n",
       "      <td>0.004022</td>\n",
       "      <td>79</td>\n",
       "      <td>0.752736</td>\n",
       "      <td>0.744136</td>\n",
       "      <td>0.749020</td>\n",
       "      <td>0.748631</td>\n",
       "      <td>...</td>\n",
       "      <td>79</td>\n",
       "      <td>0.609424</td>\n",
       "      <td>0.084781</td>\n",
       "      <td>1.279236</td>\n",
       "      <td>0.169951</td>\n",
       "      <td>{'n_factors': 50, 'n_epochs': 10, 'lr_all': 0....</td>\n",
       "      <td>50</td>\n",
       "      <td>10</td>\n",
       "      <td>0.001</td>\n",
       "      <td>0.6</td>\n",
       "    </tr>\n",
       "    <tr>\n",
       "      <th>3</th>\n",
       "      <td>0.912458</td>\n",
       "      <td>0.903749</td>\n",
       "      <td>0.902350</td>\n",
       "      <td>0.906186</td>\n",
       "      <td>0.004472</td>\n",
       "      <td>28</td>\n",
       "      <td>0.705836</td>\n",
       "      <td>0.697462</td>\n",
       "      <td>0.701805</td>\n",
       "      <td>0.701701</td>\n",
       "      <td>...</td>\n",
       "      <td>25</td>\n",
       "      <td>0.735424</td>\n",
       "      <td>0.068748</td>\n",
       "      <td>1.455147</td>\n",
       "      <td>0.018412</td>\n",
       "      <td>{'n_factors': 50, 'n_epochs': 10, 'lr_all': 0....</td>\n",
       "      <td>50</td>\n",
       "      <td>10</td>\n",
       "      <td>0.005</td>\n",
       "      <td>0.2</td>\n",
       "    </tr>\n",
       "    <tr>\n",
       "      <th>4</th>\n",
       "      <td>0.919953</td>\n",
       "      <td>0.911177</td>\n",
       "      <td>0.909942</td>\n",
       "      <td>0.913691</td>\n",
       "      <td>0.004457</td>\n",
       "      <td>43</td>\n",
       "      <td>0.714046</td>\n",
       "      <td>0.705552</td>\n",
       "      <td>0.709798</td>\n",
       "      <td>0.709799</td>\n",
       "      <td>...</td>\n",
       "      <td>43</td>\n",
       "      <td>0.674295</td>\n",
       "      <td>0.021404</td>\n",
       "      <td>1.275503</td>\n",
       "      <td>0.065929</td>\n",
       "      <td>{'n_factors': 50, 'n_epochs': 10, 'lr_all': 0....</td>\n",
       "      <td>50</td>\n",
       "      <td>10</td>\n",
       "      <td>0.005</td>\n",
       "      <td>0.4</td>\n",
       "    </tr>\n",
       "  </tbody>\n",
       "</table>\n",
       "<p>5 rows × 21 columns</p>\n",
       "</div>"
      ],
      "text/plain": [
       "   split0_test_rmse  split1_test_rmse  split2_test_rmse  mean_test_rmse  \\\n",
       "0          0.947318          0.939267          0.938527        0.941704   \n",
       "1          0.952929          0.944260          0.943590        0.946926   \n",
       "2          0.958082          0.949680          0.949425        0.952396   \n",
       "3          0.912458          0.903749          0.902350        0.906186   \n",
       "4          0.919953          0.911177          0.909942        0.913691   \n",
       "\n",
       "   std_test_rmse  rank_test_rmse  split0_test_mae  split1_test_mae  \\\n",
       "0       0.003981              73         0.741294         0.732447   \n",
       "1       0.004253              76         0.747210         0.737987   \n",
       "2       0.004022              79         0.752736         0.744136   \n",
       "3       0.004472              28         0.705836         0.697462   \n",
       "4       0.004457              43         0.714046         0.705552   \n",
       "\n",
       "   split2_test_mae  mean_test_mae  ...  rank_test_mae  mean_fit_time  \\\n",
       "0         0.737568       0.737103  ...             73       0.559676   \n",
       "1         0.743010       0.742736  ...             76       0.584021   \n",
       "2         0.749020       0.748631  ...             79       0.609424   \n",
       "3         0.701805       0.701701  ...             25       0.735424   \n",
       "4         0.709798       0.709799  ...             43       0.674295   \n",
       "\n",
       "   std_fit_time  mean_test_time  std_test_time  \\\n",
       "0      0.026104        1.131895       0.092414   \n",
       "1      0.109923        1.069749       0.137123   \n",
       "2      0.084781        1.279236       0.169951   \n",
       "3      0.068748        1.455147       0.018412   \n",
       "4      0.021404        1.275503       0.065929   \n",
       "\n",
       "                                              params param_n_factors  \\\n",
       "0  {'n_factors': 50, 'n_epochs': 10, 'lr_all': 0....              50   \n",
       "1  {'n_factors': 50, 'n_epochs': 10, 'lr_all': 0....              50   \n",
       "2  {'n_factors': 50, 'n_epochs': 10, 'lr_all': 0....              50   \n",
       "3  {'n_factors': 50, 'n_epochs': 10, 'lr_all': 0....              50   \n",
       "4  {'n_factors': 50, 'n_epochs': 10, 'lr_all': 0....              50   \n",
       "\n",
       "   param_n_epochs  param_lr_all  param_reg_all  \n",
       "0              10         0.001            0.2  \n",
       "1              10         0.001            0.4  \n",
       "2              10         0.001            0.6  \n",
       "3              10         0.005            0.2  \n",
       "4              10         0.005            0.4  \n",
       "\n",
       "[5 rows x 21 columns]"
      ]
     },
     "execution_count": 49,
     "metadata": {},
     "output_type": "execute_result"
    }
   ],
   "source": [
    "results_df = pd.DataFrame.from_dict(grid_obj.cv_results)\n",
    "results_df.head()"
   ]
  },
  {
   "cell_type": "code",
   "execution_count": 50,
   "metadata": {
    "id": "TA_7xe-nnhuu"
   },
   "outputs": [
    {
     "name": "stdout",
     "output_type": "stream",
     "text": [
      "RMSE: 0.8952\n"
     ]
    },
    {
     "data": {
      "text/plain": [
       "0.8951922244467413"
      ]
     },
     "execution_count": 50,
     "metadata": {},
     "output_type": "execute_result"
    }
   ],
   "source": [
    "# Instantiate > Train > Evaluate\n",
    "MF_USER_ITEM_optimized = SVD(n_factors=grid_obj.best_params['rmse']['n_factors'],\n",
    "                             n_epochs=grid_obj.best_params['rmse']['n_epochs'], \n",
    "                             lr_all=grid_obj.best_params['rmse']['lr_all'], \n",
    "                             reg_all=grid_obj.best_params['rmse']['reg_all'],\n",
    "                             verbose=False)\n",
    "MF_USER_ITEM_optimized.fit(TRAIN)\n",
    "\n",
    "predictions = MF_USER_ITEM_optimized.test(TEST)\n",
    "accuracy.rmse(predictions)"
   ]
  },
  {
   "cell_type": "markdown",
   "metadata": {},
   "source": [
    "As can be seen from the output, the user-item tuned model has RMSE of 0.8952, which is slightly better than the previous 0.9011."
   ]
  },
  {
   "cell_type": "markdown",
   "metadata": {
    "id": "UruWuDiCwIDE"
   },
   "source": [
    "### **Prediction**"
   ]
  },
  {
   "cell_type": "markdown",
   "metadata": {
    "id": "md0-dL56nVNO"
   },
   "source": [
    "**userId=4, movieId=10**"
   ]
  },
  {
   "cell_type": "code",
   "execution_count": 51,
   "metadata": {
    "id": "s6C1PAfboM8_"
   },
   "outputs": [
    {
     "data": {
      "text/plain": [
       "Prediction(uid=4, iid=10, r_ui=4, est=3.9868445179994896, details={'was_impossible': False})"
      ]
     },
     "execution_count": 51,
     "metadata": {},
     "output_type": "execute_result"
    }
   ],
   "source": [
    "MF_USER_ITEM_optimized.predict(uid=4, iid=10, r_ui=4, verbose=False)"
   ]
  },
  {
   "cell_type": "markdown",
   "metadata": {
    "id": "VdiEtzEznVNO"
   },
   "source": [
    "Based on the user-item similarity model, the predicted rating is 3.98, which is slightly better than the previous 3.95."
   ]
  },
  {
   "cell_type": "markdown",
   "metadata": {
    "id": "Qd2bRtIQ4ze5"
   },
   "source": [
    "**userId=4, movieId=3**"
   ]
  },
  {
   "cell_type": "code",
   "execution_count": 52,
   "metadata": {
    "id": "k1xjn3kOoQyg"
   },
   "outputs": [
    {
     "data": {
      "text/plain": [
       "Prediction(uid=4, iid=3, r_ui=None, est=3.656513102443013, details={'was_impossible': False})"
      ]
     },
     "execution_count": 52,
     "metadata": {},
     "output_type": "execute_result"
    }
   ],
   "source": [
    "MF_USER_ITEM_optimized.predict(uid=4, iid=3, verbose=False)"
   ]
  },
  {
   "cell_type": "markdown",
   "metadata": {},
   "source": [
    "Based on the user-item similarity model, the predicted rating is 3.65 for the unwatched movieId 3, which is slightly lower than the previous 3.88."
   ]
  },
  {
   "cell_type": "markdown",
   "metadata": {
    "id": "5jlUBrbFwIDH"
   },
   "source": [
    "### **Recommendations**"
   ]
  },
  {
   "cell_type": "code",
   "execution_count": 53,
   "metadata": {
    "id": "1LGeE2EB_n90"
   },
   "outputs": [
    {
     "data": {
      "text/plain": [
       "[(1192, 4.993365658624584),\n",
       " (926, 4.957438050768057),\n",
       " (116, 4.9469817985303175),\n",
       " (3310, 4.929791829095603),\n",
       " (1948, 4.927905456811588)]"
      ]
     },
     "execution_count": 53,
     "metadata": {},
     "output_type": "execute_result"
    }
   ],
   "source": [
    "recommendations = provide_recommendations(df=df, customer_id=4, reco_n=5, reco_model=MF_USER_ITEM_optimized)\n",
    "recommendations"
   ]
  },
  {
   "cell_type": "markdown",
   "metadata": {
    "id": "xgKmqss1vqGz"
   },
   "source": [
    "## **Model Evaluation - Ratings Difference** "
   ]
  },
  {
   "cell_type": "markdown",
   "metadata": {},
   "source": [
    "Given a user, we'd like to compare the true rating with the predicted rating:\n",
    "- Derive the user-item matrix\n",
    "- Filter the interacted items\n",
    "- For each interacted item, get its actual rating and predicted rating\n",
    "- Across all items, sort by actual ratings in descending order "
   ]
  },
  {
   "cell_type": "code",
   "execution_count": 54,
   "metadata": {},
   "outputs": [],
   "source": [
    "def evaluate_prediction_results(df, customer_id, reco_model):\n",
    "    \n",
    "    recommendations = []\n",
    "    \n",
    "    interactions_matrix = df.pivot(index='userId', columns='movieId', values='rating')\n",
    "    interacted_items = interactions_matrix.loc[customer_id][interactions_matrix.loc[customer_id].notnull()].index.tolist()\n",
    "    \n",
    "    for item_id in interacted_items:\n",
    "        actual_score = interactions_matrix.loc[customer_id, item_id]\n",
    "        predicted_score = reco_model.predict(customer_id, item_id).est\n",
    "        recommendations.append((item_id, actual_score, predicted_score))\n",
    "\n",
    "    recommendations.sort(key=lambda x: x[1], reverse=True)\n",
    "    recommendations_df = pd.DataFrame(recommendations, columns=['movieId', 'actual_score', 'predicted_score']) \n",
    "\n",
    "    return recommendations_df"
   ]
  },
  {
   "cell_type": "markdown",
   "metadata": {
    "id": "5T0q833lwIDK"
   },
   "source": [
    "**Similarity Based Recommendation System**"
   ]
  },
  {
   "cell_type": "code",
   "execution_count": 55,
   "metadata": {
    "id": "IWQvGj-vyWj3"
   },
   "outputs": [
    {
     "name": "stdout",
     "output_type": "stream",
     "text": [
      "     movieId         variable     value\n",
      "127        1  predicted_score  3.578433\n",
      "39         1     actual_score  3.000000\n",
      "128       10  predicted_score  3.234267\n",
      "40        10     actual_score  3.000000\n",
      "129       21  predicted_score  3.282035\n",
      "41        21     actual_score  3.000000\n"
     ]
    },
    {
     "data": {
      "image/png": "[encoded data removed]",
      "text/plain": [
       "<Figure size 467.5x360 with 1 Axes>"
      ]
     },
     "metadata": {},
     "output_type": "display_data"
    }
   ],
   "source": [
    "prediction_for_interacted_items = evaluate_prediction_results(df=df, customer_id=7, reco_model=KNN_ITEM_ITEM_optimized)\n",
    "melted_df = prediction_for_interacted_items.melt(id_vars='movieId', value_vars=['actual_score', 'predicted_score'])\n",
    "print(melted_df.sort_values('movieId').head(6))\n",
    "\n",
    "sns.displot(data=melted_df, x='value', hue='variable', kde=True)\n",
    "plt.xlabel('RATINGS')\n",
    "plt.ylabel('FREQUENCY');"
   ]
  },
  {
   "cell_type": "markdown",
   "metadata": {
    "id": "Yt9XGhb4wIDM"
   },
   "source": [
    "Through the comparisons between predicted ratings and actual ratings, we observe that:\n",
    "- The actual ratings are discrete values, whereas the predicted ratings are on the continuous scale, as the prediction is based on the aggregated ratings from the nearest neighbors.\n",
    "- The shape of the two distributions are somewhat close to each other, although not exactly the same, with most of the ratings centering around 3 - 4. "
   ]
  },
  {
   "cell_type": "markdown",
   "metadata": {
    "id": "jfNXSEw9wIDM"
   },
   "source": [
    "**Model Based Recommendation System**"
   ]
  },
  {
   "cell_type": "code",
   "execution_count": 56,
   "metadata": {
    "id": "6lYjMDhU0xuQ"
   },
   "outputs": [
    {
     "name": "stdout",
     "output_type": "stream",
     "text": [
      "     movieId         variable     value\n",
      "127        1  predicted_score  3.588940\n",
      "39         1     actual_score  3.000000\n",
      "128       10  predicted_score  3.257465\n",
      "40        10     actual_score  3.000000\n",
      "129       21  predicted_score  3.372015\n",
      "41        21     actual_score  3.000000\n"
     ]
    },
    {
     "data": {
      "image/png": "[encoded data removed]",
      "text/plain": [
       "<Figure size 467.5x360 with 1 Axes>"
      ]
     },
     "metadata": {},
     "output_type": "display_data"
    }
   ],
   "source": [
    "prediction_for_interacted_items = evaluate_prediction_results(df=df, customer_id=7, reco_model=MF_USER_ITEM_optimized)\n",
    "melted_df = prediction_for_interacted_items.melt(id_vars='movieId', value_vars=['actual_score', 'predicted_score'])\n",
    "print(melted_df.sort_values('movieId').head(6))\n",
    "\n",
    "sns.displot(data=melted_df, x='value', hue='variable', kde=True)\n",
    "plt.xlabel('RATINGS')\n",
    "plt.ylabel('FREQUENCY');"
   ]
  },
  {
   "cell_type": "markdown",
   "metadata": {},
   "source": [
    "Through the comparisons between predicted ratings and actual ratings, we observe that:\n",
    "- The actual ratings are discrete values, whereas the predicted ratings are on the continuous scale, as the prediction is based on the aggregated ratings from the nearest neighbors.\n",
    "- The shape of the two distributions are much close to each other in Matrix-Factorization Model, capturing the two modes/peaks of the user ratings. "
   ]
  },
  {
   "cell_type": "markdown",
   "metadata": {},
   "source": [
    "## **Model Evaluation - Confusion Matrix**"
   ]
  },
  {
   "cell_type": "markdown",
   "metadata": {
    "id": "kGbfBUnawIDO"
   },
   "source": [
    "Metrics:\n",
    "- **Precision@k**\n",
    "  - Fraction of recommended items that are relevant in top k predictions\n",
    "  - k: The number of recommendations to be provided to the user\n",
    "- **Recall@k**\n",
    "  - Fraction of relevant items that are recommended in top k predictions\n",
    "  - k: The number of recommendations to be provided to the user\n",
    "\n",
    "Reference: \n",
    "- https://surprise.readthedocs.io/en/stable/FAQ.html\n",
    "- https://medium.com/@m_n_malaeb/recall-and-precision-at-k-for-recommender-systems-618483226c54"
   ]
  },
  {
   "cell_type": "code",
   "execution_count": 57,
   "metadata": {},
   "outputs": [],
   "source": [
    "reader = Reader(rating_scale=(0, 5))\n",
    "surprise = Dataset.load_from_df(df[['userId', 'movieId', 'rating']], reader)\n",
    "TRAIN, TEST = train_test_split(surprise, test_size=0.2, random_state=42)"
   ]
  },
  {
   "cell_type": "code",
   "execution_count": 58,
   "metadata": {
    "id": "gihoUY5uwIDQ",
    "scrolled": false
   },
   "outputs": [],
   "source": [
    "# Function can be found on surprise documentation FAQs\n",
    "\n",
    "def precision_recall_at_k(prediction, k=10, critical_val=3.5):\n",
    "\n",
    "    customer_res = defaultdict(list)\n",
    "    for customer_id, _, TRUE, PRED, _ in prediction:\n",
    "        customer_res[customer_id].append((PRED, TRUE))\n",
    "\n",
    "    precisions = dict()\n",
    "    recalls = dict()\n",
    "    for customer_id, res in customer_res.items():\n",
    "\n",
    "        res.sort(key=lambda x: x[0], reverse=True)\n",
    "\n",
    "        # RELEVANT ITEMS\n",
    "        n_rel = sum((TRUE >= critical_val) for (_, TRUE) in res)\n",
    "\n",
    "        # RECOMMENDED ITEMS\n",
    "        n_rec_k = sum((PRED >= critical_val) for (PRED, _) in res[:k])\n",
    "\n",
    "        # RELEVANT ITEMS + RECOMMENDED ITEMS\n",
    "        n_rel_and_rec_k = sum(((TRUE >= critical_val) and (PRED >= critical_val)) for (PRED, TRUE) in res[:k])\n",
    "\n",
    "        # PRECISION\n",
    "        precisions[customer_id] = n_rel_and_rec_k / n_rec_k if n_rec_k != 0 else 0\n",
    "\n",
    "        # RECALL\n",
    "        recalls[customer_id] = n_rel_and_rec_k / n_rel if n_rel != 0 else 0\n",
    "\n",
    "    return precisions, recalls"
   ]
  },
  {
   "cell_type": "code",
   "execution_count": 59,
   "metadata": {
    "id": "57qD5TFRnm1W"
   },
   "outputs": [
    {
     "name": "stdout",
     "output_type": "stream",
     "text": [
      "> k=5, model=KNNBasic\n",
      "RMSE: 0.9940\n",
      "RMSE: 0.9986\n",
      "RMSE: 0.9857\n",
      "RMSE: 0.9933\n",
      "RMSE: 0.9960\n",
      "=====> Mean Precision: 0.769\n",
      "=====> Mean Recall: 0.413\n",
      "=====> Mean RMSE: 0.994\n",
      "> k=5, model=KNNBasic\n",
      "RMSE: 0.9824\n",
      "RMSE: 0.9824\n",
      "RMSE: 0.9839\n",
      "RMSE: 0.9889\n",
      "RMSE: 0.9974\n",
      "=====> Mean Precision: 0.772\n",
      "=====> Mean Recall: 0.42\n",
      "=====> Mean RMSE: 0.987\n",
      "> k=5, model=KNNBasic\n",
      "RMSE: 0.9914\n",
      "RMSE: 0.9959\n",
      "RMSE: 0.9886\n",
      "Computing the pearson similarity matrix...\n",
      "Done computing similarity matrix.\n",
      "Computing the pearson similarity matrix...\n",
      "Done computing similarity matrix.\n",
      "Computing the cosine similarity matrix...\n",
      "Done computing similarity matrix.\n",
      "Computing the cosine similarity matrix...\n",
      "Done computing similarity matrix.\n",
      "Computing the pearson similarity matrix...\n",
      "Done computing similarity matrix.\n",
      "Computing the cosine similarity matrix...\n",
      "Done computing similarity matrix.\n",
      "Computing the pearson similarity matrix...\n",
      "Done computing similarity matrix.\n",
      "Computing the pearson similarity matrix...\n",
      "Done computing similarity matrix.\n",
      "Computing the cosine similarity matrix...\n",
      "Done computing similarity matrix.\n",
      "Computing the cosine similarity matrix...\n",
      "Done computing similarity matrix.\n",
      "Computing the cosine similarity matrix...\n",
      "Done computing similarity matrix.\n",
      "Computing the pearson similarity matrix...\n",
      "Done computing similarity matrix.\n",
      "Computing the pearson similarity matrix...\n",
      "Done computing similarity matrix.\n",
      "Computing the cosine similarity matrix...\n",
      "Done computing similarity matrix.\n",
      "Computing the pearson similarity matrix...\n",
      "Done computing similarity matrix.\n",
      "Computing the pearson similarity matrix...\n",
      "Done computing similarity matrix.\n",
      "Computing the cosine similarity matrix...\n",
      "Done computing similarity matrix.\n",
      "Computing the pearson similarity matrix...\n",
      "Done computing similarity matrix.\n",
      "Computing the pearson similarity matrix...\n",
      "Done computing similarity matrix.\n",
      "Computing the cosine similarity matrix...\n",
      "Done computing similarity matrix.\n",
      "Computing the pearson similarity matrix...\n",
      "Done computing similarity matrix.\n",
      "Computing the pearson similarity matrix...\n",
      "Done computing similarity matrix.\n",
      "Computing the cosine similarity matrix...\n",
      "Done computing similarity matrix.\n",
      "Computing the pearson similarity matrix...\n",
      "Done computing similarity matrix.\n",
      "Computing the cosine similarity matrix...\n",
      "Done computing similarity matrix.\n",
      "Computing the pearson similarity matrix...\n",
      "Done computing similarity matrix.\n",
      "Computing the pearson similarity matrix...\n",
      "Done computing similarity matrix.\n",
      "Computing the cosine similarity matrix...\n",
      "Done computing similarity matrix.\n",
      "Computing the cosine similarity matrix...\n",
      "Done computing similarity matrix.\n",
      "Computing the cosine similarity matrix...\n",
      "Done computing similarity matrix.\n",
      "Computing the pearson similarity matrix...\n",
      "Done computing similarity matrix.\n",
      "Computing the cosine similarity matrix...\n",
      "Done computing similarity matrix.\n",
      "Computing the pearson similarity matrix...\n",
      "Done computing similarity matrix.\n",
      "Computing the pearson similarity matrix...\n",
      "Done computing similarity matrix.\n",
      "Computing the cosine similarity matrix...\n",
      "Done computing similarity matrix.\n",
      "Computing the cosine similarity matrix...\n",
      "Done computing similarity matrix.\n",
      "Computing the pearson similarity matrix...\n",
      "Done computing similarity matrix.\n",
      "Computing the cosine similarity matrix...\n",
      "Done computing similarity matrix.\n",
      "Computing the pearson similarity matrix...\n",
      "Done computing similarity matrix.\n",
      "Computing the pearson similarity matrix...\n",
      "Done computing similarity matrix.\n",
      "Computing the cosine similarity matrix...\n",
      "Done computing similarity matrix.\n",
      "Computing the cosine similarity matrix...\n",
      "Done computing similarity matrix.\n",
      "Computing the pearson similarity matrix...\n",
      "Done computing similarity matrix.\n",
      "Computing the cosine similarity matrix...\n",
      "Done computing similarity matrix.\n",
      "Computing the cosine similarity matrix...\n",
      "Done computing similarity matrix.\n",
      "Computing the pearson similarity matrix...\n",
      "Done computing similarity matrix.\n",
      "Computing the cosine similarity matrix...\n",
      "Done computing similarity matrix.\n",
      "Computing the cosine similarity matrix...\n",
      "Done computing similarity matrix.\n",
      "Computing the pearson similarity matrix...\n",
      "Done computing similarity matrix.\n",
      "Computing the cosine similarity matrix...\n",
      "Done computing similarity matrix.\n",
      "Computing the pearson similarity matrix...\n",
      "Done computing similarity matrix.\n",
      "Computing the pearson similarity matrix...\n",
      "Done computing similarity matrix.\n",
      "Computing the cosine similarity matrix...\n",
      "Done computing similarity matrix.\n",
      "Computing the pearson similarity matrix...\n",
      "Done computing similarity matrix.\n",
      "Computing the pearson similarity matrix...\n",
      "Done computing similarity matrix.\n",
      "Computing the cosine similarity matrix...\n",
      "Done computing similarity matrix.\n",
      "Computing the cosine similarity matrix...\n",
      "Done computing similarity matrix.\n",
      "Computing the pearson similarity matrix...\n",
      "Done computing similarity matrix.\n",
      "Computing the cosine similarity matrix...\n",
      "Done computing similarity matrix.\n",
      "Computing the cosine similarity matrix...\n",
      "Done computing similarity matrix.\n",
      "Computing the pearson similarity matrix...\n",
      "Done computing similarity matrix.\n",
      "Computing the cosine similarity matrix...\n",
      "Done computing similarity matrix.\n",
      "Computing the cosine similarity matrix...\n",
      "Done computing similarity matrix.\n",
      "Computing the pearson similarity matrix...\n",
      "Done computing similarity matrix.\n",
      "Computing the cosine similarity matrix...\n",
      "Done computing similarity matrix.\n",
      "Computing the cosine similarity matrix...\n",
      "Done computing similarity matrix.\n",
      "Computing the pearson similarity matrix...\n",
      "Done computing similarity matrix.\n",
      "Computing the cosine similarity matrix...\n",
      "Done computing similarity matrix.\n",
      "Computing the cosine similarity matrix...\n",
      "Done computing similarity matrix.\n",
      "Computing the pearson similarity matrix...\n",
      "Done computing similarity matrix.\n",
      "Computing the cosine similarity matrix...\n",
      "Done computing similarity matrix.\n",
      "Computing the pearson similarity matrix...\n",
      "Done computing similarity matrix.\n",
      "Computing the pearson similarity matrix...\n",
      "Done computing similarity matrix.\n",
      "Computing the cosine similarity matrix...\n",
      "Done computing similarity matrix.\n",
      "Computing the pearson similarity matrix...\n",
      "Done computing similarity matrix.\n",
      "Computing the cosine similarity matrix...\n",
      "Done computing similarity matrix.\n",
      "Computing the cosine similarity matrix...\n",
      "Done computing similarity matrix.\n",
      "Computing the pearson similarity matrix...\n",
      "Done computing similarity matrix.\n",
      "Computing the pearson similarity matrix...\n",
      "Done computing similarity matrix.\n",
      "Computing the cosine similarity matrix...\n",
      "Done computing similarity matrix.\n",
      "Computing the pearson similarity matrix...\n",
      "Done computing similarity matrix.\n",
      "Computing the pearson similarity matrix...\n",
      "Done computing similarity matrix.\n",
      "Computing the cosine similarity matrix...\n",
      "Done computing similarity matrix.\n",
      "Computing the cosine similarity matrix...\n",
      "Done computing similarity matrix.\n",
      "Computing the pearson similarity matrix...\n",
      "Done computing similarity matrix.\n",
      "Computing the cosine similarity matrix...\n",
      "Done computing similarity matrix.\n",
      "Computing the pearson similarity matrix...\n",
      "Done computing similarity matrix.\n",
      "Computing the pearson similarity matrix...\n",
      "Done computing similarity matrix.\n",
      "Computing the cosine similarity matrix...\n",
      "Done computing similarity matrix.\n",
      "Computing the pearson similarity matrix...\n",
      "Done computing similarity matrix.\n",
      "RMSE: 0.9885\n",
      "RMSE: 1.0054\n",
      "=====> Mean Precision: 0.608\n",
      "=====> Mean Recall: 0.329\n",
      "=====> Mean RMSE: 0.994\n",
      "> k=5, model=KNNBasic\n",
      "RMSE: 0.9815\n",
      "RMSE: 0.9930\n",
      "RMSE: 0.9830\n",
      "RMSE: 0.9838\n",
      "RMSE: 0.9873\n",
      "=====> Mean Precision: 0.64\n",
      "=====> Mean Recall: 0.339\n",
      "=====> Mean RMSE: 0.986\n",
      "> k=5, model=SVD\n",
      "RMSE: 0.8923\n",
      "RMSE: 0.8998\n",
      "RMSE: 0.8906\n",
      "RMSE: 0.8939\n",
      "RMSE: 0.9010\n",
      "=====> Mean Precision: 0.751\n",
      "=====> Mean Recall: 0.382\n",
      "=====> Mean RMSE: 0.896\n",
      "> k=5, model=SVD\n",
      "RMSE: 0.8935\n",
      "RMSE: 0.8859\n",
      "RMSE: 0.8963\n",
      "RMSE: 0.8861\n",
      "RMSE: 0.8866\n",
      "=====> Mean Precision: 0.744\n",
      "=====> Mean Recall: 0.385\n",
      "=====> Mean RMSE: 0.89\n",
      "> k=10, model=KNNBasic\n",
      "RMSE: 0.9916\n",
      "RMSE: 1.0113\n",
      "RMSE: 0.9933\n",
      "RMSE: 0.9884\n",
      "RMSE: 0.9813\n",
      "=====> Mean Precision: 0.747\n",
      "=====> Mean Recall: 0.547\n",
      "=====> Mean RMSE: 0.993\n",
      "> k=10, model=KNNBasic\n",
      "RMSE: 0.9873\n",
      "RMSE: 0.9814\n",
      "RMSE: 0.9935\n",
      "RMSE: 0.9861\n",
      "RMSE: 0.9837\n",
      "=====> Mean Precision: 0.749\n",
      "=====> Mean Recall: 0.559\n",
      "=====> Mean RMSE: 0.986\n",
      "> k=10, model=KNNBasic\n"
     ]
    },
    {
     "name": "stdout",
     "output_type": "stream",
     "text": [
      "RMSE: 0.9867\n",
      "RMSE: 0.9953\n",
      "RMSE: 0.9948\n",
      "RMSE: 0.9994\n",
      "RMSE: 0.9954\n",
      "=====> Mean Precision: 0.597\n",
      "=====> Mean Recall: 0.477\n",
      "=====> Mean RMSE: 0.994\n",
      "> k=10, model=KNNBasic\n",
      "RMSE: 0.9898\n",
      "RMSE: 0.9841\n",
      "RMSE: 0.9870\n",
      "RMSE: 0.9719\n",
      "RMSE: 0.9864\n",
      "=====> Mean Precision: 0.631\n",
      "=====> Mean Recall: 0.477\n",
      "=====> Mean RMSE: 0.984\n",
      "> k=10, model=SVD\n",
      "RMSE: 0.8966\n",
      "RMSE: 0.8985\n",
      "RMSE: 0.8872\n",
      "RMSE: 0.8940\n",
      "RMSE: 0.9046\n",
      "=====> Mean Precision: 0.733\n",
      "=====> Mean Recall: 0.519\n",
      "=====> Mean RMSE: 0.896\n",
      "> k=10, model=SVD\n",
      "RMSE: 0.8902\n",
      "RMSE: 0.9010\n",
      "RMSE: 0.8872\n",
      "RMSE: 0.8874\n",
      "RMSE: 0.8842\n",
      "=====> Mean Precision: 0.728\n",
      "=====> Mean Recall: 0.522\n",
      "=====> Mean RMSE: 0.89\n"
     ]
    }
   ],
   "source": [
    "kf = KFold(n_splits=5)     # Five Folds\n",
    "n_reco = [5, 10]           # K Recommendations\n",
    "\n",
    "model_objs = {\n",
    "    'KNN_USER_USER': KNN_USER_USER,\n",
    "    'KNN_USER_USER_optimized': KNN_USER_USER_optimized,\n",
    "    'KNN_ITEM_ITEM': KNN_ITEM_ITEM,\n",
    "    'KNN_ITEM_ITEM_optimized': KNN_ITEM_ITEM_optimized,\n",
    "    'MF_USER_ITEM': MF_USER_ITEM,\n",
    "    'MF_USER_ITEM_optimized': MF_USER_ITEM_optimized\n",
    "}\n",
    "\n",
    "model_perf = {}\n",
    "for n in n_reco:\n",
    "    \n",
    "    model_perf[n] = {}\n",
    "    \n",
    "    for model_name, model_obj in model_objs.items():\n",
    "        \n",
    "        print('> k={}, model={}'.format(n, model_obj.__class__.__name__))\n",
    "\n",
    "        p = []\n",
    "        r = []\n",
    "        rmse = []\n",
    "        for TRAIN, TEST in kf.split(surprise):\n",
    "            \n",
    "            model_obj.fit(TRAIN)\n",
    "            predictions = model_obj.test(TEST, verbose=False)\n",
    "            \n",
    "            model_rmse = accuracy.rmse(predictions)\n",
    "            rmse.append(model_rmse)\n",
    "            \n",
    "            # INDIVIDUAL USER\n",
    "            precisions, recalls = precision_recall_at_k(predictions, k=n, critical_val=3.5)\n",
    "            # ALL USERS\n",
    "            p.append(sum(prec for prec in precisions.values()) / len(precisions))\n",
    "            r.append(sum(rec for rec in recalls.values()) / len(recalls))\n",
    "        \n",
    "        print('=====> Mean Precision:', round(sum(p) / len(p), 3))\n",
    "        print('=====> Mean Recall:', round(sum(r) / len(r), 3))\n",
    "        print('=====> Mean RMSE:', round(sum(rmse) / len(rmse), 3))\n",
    "        \n",
    "        model_perf[n][model_name] = [\n",
    "            round(sum(p) / len(p), 3), \n",
    "            round(sum(r) / len(r), 3),\n",
    "            round(sum(rmse) / len(rmse), 3)\n",
    "        ]"
   ]
  },
  {
   "cell_type": "code",
   "execution_count": 60,
   "metadata": {},
   "outputs": [
    {
     "data": {
      "text/plain": [
       "{5: {'KNN_USER_USER': [0.769, 0.413, 0.994],\n",
       "  'KNN_USER_USER_optimized': [0.772, 0.42, 0.987],\n",
       "  'KNN_ITEM_ITEM': [0.608, 0.329, 0.994],\n",
       "  'KNN_ITEM_ITEM_optimized': [0.64, 0.339, 0.986],\n",
       "  'MF_USER_ITEM': [0.751, 0.382, 0.896],\n",
       "  'MF_USER_ITEM_optimized': [0.744, 0.385, 0.89]},\n",
       " 10: {'KNN_USER_USER': [0.747, 0.547, 0.993],\n",
       "  'KNN_USER_USER_optimized': [0.749, 0.559, 0.986],\n",
       "  'KNN_ITEM_ITEM': [0.597, 0.477, 0.994],\n",
       "  'KNN_ITEM_ITEM_optimized': [0.631, 0.477, 0.984],\n",
       "  'MF_USER_ITEM': [0.733, 0.519, 0.896],\n",
       "  'MF_USER_ITEM_optimized': [0.728, 0.522, 0.89]}}"
      ]
     },
     "execution_count": 60,
     "metadata": {},
     "output_type": "execute_result"
    }
   ],
   "source": [
    "model_perf"
   ]
  },
  {
   "cell_type": "code",
   "execution_count": 61,
   "metadata": {},
   "outputs": [
    {
     "data": {
      "text/html": [
       "<div>\n",
       "<style scoped>\n",
       "    .dataframe tbody tr th:only-of-type {\n",
       "        vertical-align: middle;\n",
       "    }\n",
       "\n",
       "    .dataframe tbody tr th {\n",
       "        vertical-align: top;\n",
       "    }\n",
       "\n",
       "    .dataframe thead th {\n",
       "        text-align: right;\n",
       "    }\n",
       "</style>\n",
       "<table border=\"1\" class=\"dataframe\">\n",
       "  <thead>\n",
       "    <tr style=\"text-align: right;\">\n",
       "      <th></th>\n",
       "      <th>mean_precision_k5</th>\n",
       "      <th>mean_recall_k5</th>\n",
       "      <th>mean_precision_k10</th>\n",
       "      <th>mean_recall_k10</th>\n",
       "      <th>mean_rmse</th>\n",
       "    </tr>\n",
       "  </thead>\n",
       "  <tbody>\n",
       "    <tr>\n",
       "      <th>KNN_USER_USER</th>\n",
       "      <td>0.769</td>\n",
       "      <td>0.413</td>\n",
       "      <td>0.747</td>\n",
       "      <td>0.547</td>\n",
       "      <td>0.9935</td>\n",
       "    </tr>\n",
       "    <tr>\n",
       "      <th>KNN_USER_USER_optimized</th>\n",
       "      <td>0.772</td>\n",
       "      <td>0.420</td>\n",
       "      <td>0.749</td>\n",
       "      <td>0.559</td>\n",
       "      <td>0.9865</td>\n",
       "    </tr>\n",
       "    <tr>\n",
       "      <th>KNN_ITEM_ITEM</th>\n",
       "      <td>0.608</td>\n",
       "      <td>0.329</td>\n",
       "      <td>0.597</td>\n",
       "      <td>0.477</td>\n",
       "      <td>0.9940</td>\n",
       "    </tr>\n",
       "    <tr>\n",
       "      <th>KNN_ITEM_ITEM_optimized</th>\n",
       "      <td>0.640</td>\n",
       "      <td>0.339</td>\n",
       "      <td>0.631</td>\n",
       "      <td>0.477</td>\n",
       "      <td>0.9850</td>\n",
       "    </tr>\n",
       "    <tr>\n",
       "      <th>MF_USER_ITEM</th>\n",
       "      <td>0.751</td>\n",
       "      <td>0.382</td>\n",
       "      <td>0.733</td>\n",
       "      <td>0.519</td>\n",
       "      <td>0.8960</td>\n",
       "    </tr>\n",
       "    <tr>\n",
       "      <th>MF_USER_ITEM_optimized</th>\n",
       "      <td>0.744</td>\n",
       "      <td>0.385</td>\n",
       "      <td>0.728</td>\n",
       "      <td>0.522</td>\n",
       "      <td>0.8900</td>\n",
       "    </tr>\n",
       "  </tbody>\n",
       "</table>\n",
       "</div>"
      ],
      "text/plain": [
       "                         mean_precision_k5  mean_recall_k5  \\\n",
       "KNN_USER_USER                        0.769           0.413   \n",
       "KNN_USER_USER_optimized              0.772           0.420   \n",
       "KNN_ITEM_ITEM                        0.608           0.329   \n",
       "KNN_ITEM_ITEM_optimized              0.640           0.339   \n",
       "MF_USER_ITEM                         0.751           0.382   \n",
       "MF_USER_ITEM_optimized               0.744           0.385   \n",
       "\n",
       "                         mean_precision_k10  mean_recall_k10  mean_rmse  \n",
       "KNN_USER_USER                         0.747            0.547     0.9935  \n",
       "KNN_USER_USER_optimized               0.749            0.559     0.9865  \n",
       "KNN_ITEM_ITEM                         0.597            0.477     0.9940  \n",
       "KNN_ITEM_ITEM_optimized               0.631            0.477     0.9850  \n",
       "MF_USER_ITEM                          0.733            0.519     0.8960  \n",
       "MF_USER_ITEM_optimized                0.728            0.522     0.8900  "
      ]
     },
     "execution_count": 61,
     "metadata": {},
     "output_type": "execute_result"
    }
   ],
   "source": [
    "comp_df = pd.DataFrame.from_dict(model_perf)\n",
    "\n",
    "for col in comp_df.columns:\n",
    "    comp_df[f'mean_precision_k{col}'] = comp_df[col].apply(lambda x: x[0])\n",
    "    comp_df[f'mean_recall_k{col}'] = comp_df[col].apply(lambda x: x[1])\n",
    "    comp_df[f'mean_rmse_k{col}'] = comp_df[col].apply(lambda x: x[2])\n",
    "\n",
    "comp_df['mean_rmse'] = (comp_df['mean_rmse_k5'] + comp_df['mean_rmse_k10']) / 2\n",
    "comp_df.drop([5, 10, 'mean_rmse_k5', 'mean_rmse_k10'], axis=1)"
   ]
  },
  {
   "cell_type": "markdown",
   "metadata": {
    "id": "08dezW5P6O1Z"
   },
   "source": [
    "### **Compare the results from the baseline user-user and item-item models**\n",
    "From the K-Fold Cross-Validation model evaluation outputs, we can observe that:\n",
    "- Using precision and recall: KNN USER-USER model outperforms KNN ITEM-ITEM model.\n",
    "- Using rmse: KNN USER-USER model (RMSE=0.9935) also outperforms KNN ITEM-ITEM model (RMSE=0.9940)."
   ]
  },
  {
   "cell_type": "markdown",
   "metadata": {},
   "source": [
    "### **Compare the results from the tuned user-user and item-item models**\n",
    "- KNN USER-USER model: \n",
    "  - In terms of RMSE, the tuned model performs better than the baseline model (0.9865 < 0.9935).\n",
    "  - In terms of precision and recall, the tuned model has higher recall than the baseline model, indicating that the tuned model is able to recommend more relevant movies.\n",
    "- KNN ITEM-ITEM model:\n",
    "  - In terms of RMSE, the tuned model performs better than the baseline model (0.9850 < 0.9940).\n",
    "  - In terms of precision and recall, the tuned model has higher precision and recall than the baseline model.\n",
    "- Comparison: Although the tuned KNN ITEM-ITEM model has lower RMSE than the tuned KNN USER-USER model (0.9850 < 0.9865), the KNN USER-USER model has higher recall and precision than the KNN ITEM-ITEM model. "
   ]
  },
  {
   "cell_type": "markdown",
   "metadata": {},
   "source": [
    "### **Final remarks**\n",
    "\n",
    "#### **Describe the difference between Matrix Factorization and Collaborative Filtering**\n",
    "- Collaborative Filtering: Based on the similarity between users or items, the K-Nearest-Neighbors algorithm tries to recommend items that similar users like or that similar items share.   \n",
    "- Matrix Factorization: Given the user-item interaction matrix, the Matrix-Factorization algorithm tries to decompose the original matrix into the product of lower-dimensional matrices, with the aim of extracting the latent features.\n",
    "\n",
    "#### **Compare the model performance (RMSE, Precision, Recall)**\n",
    "- MF USER-ITEM model achieves the lowest RMSE of around 0.89.\n",
    "- MF USER-ITEM model has higher precision and recall than KNN ITEM-ITEM model, but lower precision and recall than KNN USER-USER model."
   ]
  }
 ],
 "metadata": {
  "colab": {
   "collapsed_sections": [],
   "name": "Project_Movie_Recommendation_Learners_Notebook.ipynb",
   "provenance": []
  },
  "kernelspec": {
   "display_name": "Python 3 (ipykernel)",
   "language": "python",
   "name": "python3"
  },
  "language_info": {
   "codemirror_mode": {
    "name": "ipython",
    "version": 3
   },
   "file_extension": ".py",
   "mimetype": "text/x-python",
   "name": "python",
   "nbconvert_exporter": "python",
   "pygments_lexer": "ipython3",
   "version": "3.9.12"
  }
 },
 "nbformat": 4,
 "nbformat_minor": 1
}
